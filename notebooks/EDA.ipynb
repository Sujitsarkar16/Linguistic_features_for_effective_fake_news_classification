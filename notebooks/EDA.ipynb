{
 "cells": [
  {
   "cell_type": "code",
   "execution_count": 1,
   "metadata": {},
   "outputs": [],
   "source": [
    "import os\n",
    "import zipfile\n",
    "import pandas as pd\n",
    "import numpy as np\n",
    "import matplotlib.pyplot as plt\n",
    "%matplotlib inline\n",
    "from re import search"
   ]
  },
  {
   "cell_type": "code",
   "execution_count": 120,
   "metadata": {},
   "outputs": [],
   "source": [
    "DATA_PATH = '../data/'\n",
    "\n",
    "FAKE_DATA_FILE = 'Fake.csv'\n",
    "TRUE_DATA_FILE = 'True.csv'"
   ]
  },
  {
   "cell_type": "code",
   "execution_count": 121,
   "metadata": {},
   "outputs": [],
   "source": [
    "true_df = pd.read_csv(DATA_PATH + TRUE_DATA_FILE)\n",
    "fake_df = pd.read_csv(DATA_PATH + FAKE_DATA_FILE)"
   ]
  },
  {
   "cell_type": "code",
   "execution_count": 122,
   "metadata": {},
   "outputs": [],
   "source": [
    "true_df['label'] = 'true'\n",
    "fake_df['label'] = 'fake'\n",
    "df = pd.concat([fake_df, true_df], ignore_index=True)"
   ]
  },
  {
   "cell_type": "code",
   "execution_count": null,
   "metadata": {},
   "outputs": [],
   "source": []
  },
  {
   "cell_type": "code",
   "execution_count": 123,
   "metadata": {},
   "outputs": [
    {
     "data": {
      "text/html": [
       "<div>\n",
       "<style scoped>\n",
       "    .dataframe tbody tr th:only-of-type {\n",
       "        vertical-align: middle;\n",
       "    }\n",
       "\n",
       "    .dataframe tbody tr th {\n",
       "        vertical-align: top;\n",
       "    }\n",
       "\n",
       "    .dataframe thead th {\n",
       "        text-align: right;\n",
       "    }\n",
       "</style>\n",
       "<table border=\"1\" class=\"dataframe\">\n",
       "  <thead>\n",
       "    <tr style=\"text-align: right;\">\n",
       "      <th></th>\n",
       "      <th>title</th>\n",
       "      <th>text</th>\n",
       "      <th>subject</th>\n",
       "      <th>date</th>\n",
       "      <th>label</th>\n",
       "    </tr>\n",
       "  </thead>\n",
       "  <tbody>\n",
       "    <tr>\n",
       "      <th>0</th>\n",
       "      <td>Donald Trump Sends Out Embarrassing New Year’...</td>\n",
       "      <td>Donald Trump just couldn t wish all Americans ...</td>\n",
       "      <td>News</td>\n",
       "      <td>December 31, 2017</td>\n",
       "      <td>fake</td>\n",
       "    </tr>\n",
       "    <tr>\n",
       "      <th>1</th>\n",
       "      <td>Drunk Bragging Trump Staffer Started Russian ...</td>\n",
       "      <td>House Intelligence Committee Chairman Devin Nu...</td>\n",
       "      <td>News</td>\n",
       "      <td>December 31, 2017</td>\n",
       "      <td>fake</td>\n",
       "    </tr>\n",
       "    <tr>\n",
       "      <th>2</th>\n",
       "      <td>Sheriff David Clarke Becomes An Internet Joke...</td>\n",
       "      <td>On Friday, it was revealed that former Milwauk...</td>\n",
       "      <td>News</td>\n",
       "      <td>December 30, 2017</td>\n",
       "      <td>fake</td>\n",
       "    </tr>\n",
       "    <tr>\n",
       "      <th>3</th>\n",
       "      <td>Trump Is So Obsessed He Even Has Obama’s Name...</td>\n",
       "      <td>On Christmas day, Donald Trump announced that ...</td>\n",
       "      <td>News</td>\n",
       "      <td>December 29, 2017</td>\n",
       "      <td>fake</td>\n",
       "    </tr>\n",
       "    <tr>\n",
       "      <th>4</th>\n",
       "      <td>Pope Francis Just Called Out Donald Trump Dur...</td>\n",
       "      <td>Pope Francis used his annual Christmas Day mes...</td>\n",
       "      <td>News</td>\n",
       "      <td>December 25, 2017</td>\n",
       "      <td>fake</td>\n",
       "    </tr>\n",
       "  </tbody>\n",
       "</table>\n",
       "</div>"
      ],
      "text/plain": [
       "                                               title  \\\n",
       "0   Donald Trump Sends Out Embarrassing New Year’...   \n",
       "1   Drunk Bragging Trump Staffer Started Russian ...   \n",
       "2   Sheriff David Clarke Becomes An Internet Joke...   \n",
       "3   Trump Is So Obsessed He Even Has Obama’s Name...   \n",
       "4   Pope Francis Just Called Out Donald Trump Dur...   \n",
       "\n",
       "                                                text subject  \\\n",
       "0  Donald Trump just couldn t wish all Americans ...    News   \n",
       "1  House Intelligence Committee Chairman Devin Nu...    News   \n",
       "2  On Friday, it was revealed that former Milwauk...    News   \n",
       "3  On Christmas day, Donald Trump announced that ...    News   \n",
       "4  Pope Francis used his annual Christmas Day mes...    News   \n",
       "\n",
       "                date label  \n",
       "0  December 31, 2017  fake  \n",
       "1  December 31, 2017  fake  \n",
       "2  December 30, 2017  fake  \n",
       "3  December 29, 2017  fake  \n",
       "4  December 25, 2017  fake  "
      ]
     },
     "execution_count": 123,
     "metadata": {},
     "output_type": "execute_result"
    }
   ],
   "source": [
    "df.head()"
   ]
  },
  {
   "cell_type": "markdown",
   "metadata": {},
   "source": [
    "# Clean the Data\n"
   ]
  },
  {
   "cell_type": "markdown",
   "metadata": {},
   "source": [
    "## Check for missing data"
   ]
  },
  {
   "cell_type": "code",
   "execution_count": 124,
   "metadata": {},
   "outputs": [
    {
     "name": "stdout",
     "output_type": "stream",
     "text": [
      "<class 'pandas.core.frame.DataFrame'>\n",
      "RangeIndex: 44898 entries, 0 to 44897\n",
      "Data columns (total 5 columns):\n",
      " #   Column   Non-Null Count  Dtype \n",
      "---  ------   --------------  ----- \n",
      " 0   title    44898 non-null  object\n",
      " 1   text     44898 non-null  object\n",
      " 2   subject  44898 non-null  object\n",
      " 3   date     44898 non-null  object\n",
      " 4   label    44898 non-null  object\n",
      "dtypes: object(5)\n",
      "memory usage: 1.7+ MB\n"
     ]
    }
   ],
   "source": [
    "df.info()"
   ]
  },
  {
   "cell_type": "markdown",
   "metadata": {},
   "source": [
    "## Check for placeholder values and duplicates\n"
   ]
  },
  {
   "cell_type": "code",
   "execution_count": 125,
   "metadata": {},
   "outputs": [],
   "source": [
    "title_value_counts = df.title.value_counts()"
   ]
  },
  {
   "cell_type": "code",
   "execution_count": 126,
   "metadata": {},
   "outputs": [
    {
     "data": {
      "text/plain": [
       "title\n",
       "Factbox: Trump fills top jobs for his administration                                                                14\n",
       "Highlights: The Trump presidency on April 13 at 9:30 P.M. EDT/0130 GMT on Friday                                     8\n",
       "Factbox: Contenders for senior jobs in Trump's administration                                                        8\n",
       "Factbox: International reaction to arrest of Reuters reporters in Myanmar                                            6\n",
       "MEDIA IGNORES Time That Bill Clinton FIRED His FBI Director On Day Before Vince Foster Was Found Dead                6\n",
       "                                                                                                                    ..\n",
       "EP #7: Patrick Henningsen LIVE with guest Shawn Helton – ‘Top Conspiracies of 2016’                                  2\n",
       "Facebook Partners With Snopes & Other So-Called ‘Fact Checking’ Sites to Burry ‘Fake News’                           2\n",
       "CLOAKED ORDER: Who’s Really Behind ‘New Authority’ for CIA Drone Strikes?                                            2\n",
       "Secret Service Laptop Reportedly ‘Stolen’ had Trump Tower Layout and Clinton Email Probe Details                     2\n",
       "STOCKHOLM STUDY: US & Europe Top Arms Trade Globally – Saudi Arabia’s Weapons Imports Skyrocket Over 200 Percent     2\n",
       "Name: count, Length: 5629, dtype: int64"
      ]
     },
     "execution_count": 126,
     "metadata": {},
     "output_type": "execute_result"
    }
   ],
   "source": [
    "title_value_counts[title_value_counts > 1]"
   ]
  },
  {
   "cell_type": "markdown",
   "metadata": {},
   "source": [
    "There are a lot of titles that are used more than once.   look at the most commonly reused title."
   ]
  },
  {
   "cell_type": "code",
   "execution_count": 127,
   "metadata": {},
   "outputs": [
    {
     "data": {
      "text/html": [
       "<div>\n",
       "<style scoped>\n",
       "    .dataframe tbody tr th:only-of-type {\n",
       "        vertical-align: middle;\n",
       "    }\n",
       "\n",
       "    .dataframe tbody tr th {\n",
       "        vertical-align: top;\n",
       "    }\n",
       "\n",
       "    .dataframe thead th {\n",
       "        text-align: right;\n",
       "    }\n",
       "</style>\n",
       "<table border=\"1\" class=\"dataframe\">\n",
       "  <thead>\n",
       "    <tr style=\"text-align: right;\">\n",
       "      <th></th>\n",
       "      <th>title</th>\n",
       "      <th>text</th>\n",
       "      <th>subject</th>\n",
       "      <th>date</th>\n",
       "      <th>label</th>\n",
       "    </tr>\n",
       "  </thead>\n",
       "  <tbody>\n",
       "    <tr>\n",
       "      <th>29701</th>\n",
       "      <td>Factbox: Trump fills top jobs for his administ...</td>\n",
       "      <td>(Reuters) - U.S. President-elect Donald Trump ...</td>\n",
       "      <td>politicsNews</td>\n",
       "      <td>January 19, 2017</td>\n",
       "      <td>true</td>\n",
       "    </tr>\n",
       "    <tr>\n",
       "      <th>29875</th>\n",
       "      <td>Factbox: Trump fills top jobs for his administ...</td>\n",
       "      <td>(Reuters) - U.S. President-elect Donald Trump ...</td>\n",
       "      <td>politicsNews</td>\n",
       "      <td>January 11, 2017</td>\n",
       "      <td>true</td>\n",
       "    </tr>\n",
       "    <tr>\n",
       "      <th>30096</th>\n",
       "      <td>Factbox: Trump fills top jobs for his administ...</td>\n",
       "      <td>(Reuters) - U.S. President-elect Donald Trump ...</td>\n",
       "      <td>politicsNews</td>\n",
       "      <td>December 21, 2016</td>\n",
       "      <td>true</td>\n",
       "    </tr>\n",
       "    <tr>\n",
       "      <th>30118</th>\n",
       "      <td>Factbox: Trump fills top jobs for his administ...</td>\n",
       "      <td>(Reuters) - President-elect Donald Trump will ...</td>\n",
       "      <td>politicsNews</td>\n",
       "      <td>December 19, 2016</td>\n",
       "      <td>true</td>\n",
       "    </tr>\n",
       "    <tr>\n",
       "      <th>30136</th>\n",
       "      <td>Factbox: Trump fills top jobs for his administ...</td>\n",
       "      <td>(Reuters) - President-elect Donald Trump will ...</td>\n",
       "      <td>politicsNews</td>\n",
       "      <td>December 17, 2016</td>\n",
       "      <td>true</td>\n",
       "    </tr>\n",
       "    <tr>\n",
       "      <th>30167</th>\n",
       "      <td>Factbox: Trump fills top jobs for his administ...</td>\n",
       "      <td>(Reuters) - U.S. President-elect Donald Trump ...</td>\n",
       "      <td>politicsNews</td>\n",
       "      <td>December 15, 2016</td>\n",
       "      <td>true</td>\n",
       "    </tr>\n",
       "    <tr>\n",
       "      <th>30186</th>\n",
       "      <td>Factbox: Trump fills top jobs for his administ...</td>\n",
       "      <td>(Reuters) - U.S. President-elect Donald Trump ...</td>\n",
       "      <td>politicsNews</td>\n",
       "      <td>December 13, 2016</td>\n",
       "      <td>true</td>\n",
       "    </tr>\n",
       "    <tr>\n",
       "      <th>30220</th>\n",
       "      <td>Factbox: Trump fills top jobs for his administ...</td>\n",
       "      <td>(Reuters) - U.S. President-elect Donald Trump ...</td>\n",
       "      <td>politicsNews</td>\n",
       "      <td>December 13, 2016</td>\n",
       "      <td>true</td>\n",
       "    </tr>\n",
       "    <tr>\n",
       "      <th>30236</th>\n",
       "      <td>Factbox: Trump fills top jobs for his administ...</td>\n",
       "      <td>(Reuters) - U.S. President-elect Donald Trump ...</td>\n",
       "      <td>politicsNews</td>\n",
       "      <td>December 12, 2016</td>\n",
       "      <td>true</td>\n",
       "    </tr>\n",
       "    <tr>\n",
       "      <th>30289</th>\n",
       "      <td>Factbox: Trump fills top jobs for his administ...</td>\n",
       "      <td>(Reuters) - U.S. President-elect Donald Trump ...</td>\n",
       "      <td>politicsNews</td>\n",
       "      <td>December 8, 2016</td>\n",
       "      <td>true</td>\n",
       "    </tr>\n",
       "    <tr>\n",
       "      <th>30330</th>\n",
       "      <td>Factbox: Trump fills top jobs for his administ...</td>\n",
       "      <td>(Reuters) - U.S. President-elect Donald Trump ...</td>\n",
       "      <td>politicsNews</td>\n",
       "      <td>December 7, 2016</td>\n",
       "      <td>true</td>\n",
       "    </tr>\n",
       "    <tr>\n",
       "      <th>30380</th>\n",
       "      <td>Factbox: Trump fills top jobs for his administ...</td>\n",
       "      <td>(Reuters) - U.S. President-elect Donald Trump ...</td>\n",
       "      <td>politicsNews</td>\n",
       "      <td>December 5, 2016</td>\n",
       "      <td>true</td>\n",
       "    </tr>\n",
       "    <tr>\n",
       "      <th>30480</th>\n",
       "      <td>Factbox: Trump fills top jobs for his administ...</td>\n",
       "      <td>(Reuters) - President-elect Donald Trump has c...</td>\n",
       "      <td>politicsNews</td>\n",
       "      <td>November 30, 2016</td>\n",
       "      <td>true</td>\n",
       "    </tr>\n",
       "    <tr>\n",
       "      <th>30489</th>\n",
       "      <td>Factbox: Trump fills top jobs for his administ...</td>\n",
       "      <td>(Reuters) - U.S. President-elect Donald Trump ...</td>\n",
       "      <td>politicsNews</td>\n",
       "      <td>November 29, 2016</td>\n",
       "      <td>true</td>\n",
       "    </tr>\n",
       "  </tbody>\n",
       "</table>\n",
       "</div>"
      ],
      "text/plain": [
       "                                                   title  \\\n",
       "29701  Factbox: Trump fills top jobs for his administ...   \n",
       "29875  Factbox: Trump fills top jobs for his administ...   \n",
       "30096  Factbox: Trump fills top jobs for his administ...   \n",
       "30118  Factbox: Trump fills top jobs for his administ...   \n",
       "30136  Factbox: Trump fills top jobs for his administ...   \n",
       "30167  Factbox: Trump fills top jobs for his administ...   \n",
       "30186  Factbox: Trump fills top jobs for his administ...   \n",
       "30220  Factbox: Trump fills top jobs for his administ...   \n",
       "30236  Factbox: Trump fills top jobs for his administ...   \n",
       "30289  Factbox: Trump fills top jobs for his administ...   \n",
       "30330  Factbox: Trump fills top jobs for his administ...   \n",
       "30380  Factbox: Trump fills top jobs for his administ...   \n",
       "30480  Factbox: Trump fills top jobs for his administ...   \n",
       "30489  Factbox: Trump fills top jobs for his administ...   \n",
       "\n",
       "                                                    text       subject  \\\n",
       "29701  (Reuters) - U.S. President-elect Donald Trump ...  politicsNews   \n",
       "29875  (Reuters) - U.S. President-elect Donald Trump ...  politicsNews   \n",
       "30096  (Reuters) - U.S. President-elect Donald Trump ...  politicsNews   \n",
       "30118  (Reuters) - President-elect Donald Trump will ...  politicsNews   \n",
       "30136  (Reuters) - President-elect Donald Trump will ...  politicsNews   \n",
       "30167  (Reuters) - U.S. President-elect Donald Trump ...  politicsNews   \n",
       "30186  (Reuters) - U.S. President-elect Donald Trump ...  politicsNews   \n",
       "30220  (Reuters) - U.S. President-elect Donald Trump ...  politicsNews   \n",
       "30236  (Reuters) - U.S. President-elect Donald Trump ...  politicsNews   \n",
       "30289  (Reuters) - U.S. President-elect Donald Trump ...  politicsNews   \n",
       "30330  (Reuters) - U.S. President-elect Donald Trump ...  politicsNews   \n",
       "30380  (Reuters) - U.S. President-elect Donald Trump ...  politicsNews   \n",
       "30480  (Reuters) - President-elect Donald Trump has c...  politicsNews   \n",
       "30489  (Reuters) - U.S. President-elect Donald Trump ...  politicsNews   \n",
       "\n",
       "                     date label  \n",
       "29701   January 19, 2017   true  \n",
       "29875   January 11, 2017   true  \n",
       "30096  December 21, 2016   true  \n",
       "30118  December 19, 2016   true  \n",
       "30136  December 17, 2016   true  \n",
       "30167  December 15, 2016   true  \n",
       "30186  December 13, 2016   true  \n",
       "30220  December 13, 2016   true  \n",
       "30236  December 12, 2016   true  \n",
       "30289   December 8, 2016   true  \n",
       "30330   December 7, 2016   true  \n",
       "30380   December 5, 2016   true  \n",
       "30480  November 30, 2016   true  \n",
       "30489  November 29, 2016   true  "
      ]
     },
     "execution_count": 127,
     "metadata": {},
     "output_type": "execute_result"
    }
   ],
   "source": [
    "df[df.title == 'Factbox: Trump fills top jobs for his administration']"
   ]
  },
  {
   "cell_type": "code",
   "execution_count": 128,
   "metadata": {},
   "outputs": [
    {
     "data": {
      "text/plain": [
       "'(Reuters) - U.S. President-elect Donald Trump will name former Georgia Governor Sonny Perdue as his nominee for secretary of agriculture on Thursday, a senior transition official said on Wednesday. Here is a list of Republican Trump’s selections for top jobs in his administration.  NOTE: Senate confirmation is required for all the posts except national security adviser and White House posts. Tillerson, 64, has spent his entire career at Exxon Mobil Corp, where he rose to chairman and chief executive officer in 2006. A civil engineer by training, the Texan joined the world’s largest publicly traded energy company in 1975 and led several of its operations in the United States as well as in Yemen, Thailand and Russia. As Exxon’s chief executive, he maintained close ties with Moscow and opposed U.S. sanctions against Russia for its incursion into Crimea. Mnuchin, 54, is a successful private equity investor, hedge fund manager and Hollywood financier who spent 17 years at Goldman Sachs Group Inc before leaving the investment bank in 2002. He assembled an investor group to buy a failed California mortgage lender in 2009, rebranded it as OneWest Bank and built it into Southern California’s largest bank. Housing advocacy groups criticized OneWest for its foreclosure practices, accusing it of being too quick to foreclose on struggling homeowners. Mattis is a retired Marine general known for his tough talk, distrust of Iran and battlefield experience in Iraq and Afghanistan. A former leader of Central Command, which oversees U.S. military operations in the Middle East and South Asia, Mattis, 66, is known by many U.S. forces by his nickname, “Mad Dog.” He was rebuked in 2005 for saying: “It’s fun to shoot some people.” Sessions, 70, was the first U.S. senator to endorse Trump’s presidential bid and has been a close ally since. Son of a country store owner, the lawmaker from Alabama and former federal prosecutor has long taken a tough stance on illegal immigration, opposing any path to citizenship for undocumented immigrants. Coats, 73, served as U.S. senator from Indiana from 1989 to 1999 and again from 2011 to 2017, and was U.S. ambassador to Germany from 2001 to 2005. He previously served as U.S. representative from Indiana’s 4th Congressional District. Zinke, 55, a first-term Republican U.S. representative from Montana and a member of the House subcommittee on natural resources, has voted for legislation that would weaken environmental safeguards on public lands. He has taken stances favoring the coal industry, which suffered during the Obama administration. The League of Conservation Voters, which ranks lawmakers on their environmental record, gave Zinke an extremely low lifetime score of 3 percent. Ross, 79, heads the private equity firm WL Ross & Co. Forbes has pegged his net worth at about $2.9 billion. A staunch supporter of Trump, Ross helped shape the Trump campaign’s views on trade policy. He blames massive U.S. factory job losses on the North American Free Trade Agreement (NAFTA) with Canada and Mexico, which went into force in 1994, and the 2001 entry of China into the World Trade Organization.      Lighthizer, 69, served as deputy U.S. trade representative during the Reagan administration in the 1980s and has since spent nearly three decades as a lawyer representing U.S. companies in anti-dumping and anti-subsidy cases, currently with the law firm Skadden, Arps, Slate, Meagher and Flom. A harsh critic of China’s trade practices, Lighthizer in 2010 told Congress that U.S. policymakers should take a more aggressive approach in dealing with the Asian country. Puzder, chief executive officer of CKE Restaurants Inc [APOLOT.UL], which runs the Carl’s Jr. and Hardee’s fast-food chains, has been a vociferous critic of government regulation of the workplace and the National Labor Relations Board. Puzder, 66, has argued that higher minimum wages would hurt workers by forcing restaurants to close and praises the benefits of automation, so his appointment is likely to antagonize organized labor.  U.S. Representative Price, 62, is an orthopedic surgeon who heads the House Budget Committee. A representative from Georgia since 2005, Price has criticized Obamacare and has championed a plan of tax credits, expanded health savings accounts and lawsuit reforms to replace it. He is against abortion. Former Georgia Governor Perdue, 70, served on Trump’s agricultural advisory committee during the campaign. Perdue, a Republican, was elected to two terms as governor, serving from 2003 to 2011. Before that, he served in the state Senate representing a rural swath of the state about 100 miles (160 km) south of Atlanta. After finishing his second term as governor, Perdue founded Perdue Partners, a global trading firm that consults and provides services for companies looking to export products. Shulkin, 57, currently is under secretary for health at the Department of Veterans Affairs, putting him in charge of the country’s largest healthcare system. Shulkin, a physician, was chosen by Democratic President Barack Obama for the under secretary post in 2015. He has spearheaded an effort to cut waiting times for care at VA medical centers. Trump promised during the campaign to improve medical care for veterans. Shulkin would be the first VA secretary who had not served in the military. Carson, 65, is a retired neurosurgeon who dropped out of the Republican presidential nominating race in March and threw his support to Trump. A popular writer and speaker in conservative circles, Carson had been reluctant to take a position in the incoming administration because of his lack of experience in the federal government. He is the first African-American picked for a Cabinet spot by Trump. Chao, 63, was labor secretary under President George W. Bush for eight years and the first Asian-American woman to hold a Cabinet position. She is a director at Ingersoll Rand Plc, News Corp and Vulcan Materials Co. She is married to U.S. Senate Majority Leader Mitch McConnell, a Republican from Kentucky. Perry, 66, is an addition to the list of oil drilling advocates skeptical about climate change who have been picked for senior positions in Trump’s Cabinet. The selections have worried environmentalists but cheered an oil and gas industry eager for expansion. Perry, who ran unsuccessfully for the 2012 Republican presidential nomination and also briefly ran for president in 2016, would be responsible for U.S. energy policy and oversee the nation’s nuclear weapons program.  DeVos, 59, is a billionaire Republican donor, a former chair of the Michigan Republican Party and an advocate for the privatization of education. As chair of the American Federation for Children, she has pushed at the state level for vouchers that families can use to send their children to private schools and for expansion of charter schools. The final leadership role of Kelly’s 45-year military career was head of the U.S. Southern Command, responsible for U.S. military activities and relationships in Latin America and the Caribbean. The 66-year-old retired Marine general differed with Obama on key issues and has warned of vulnerabilities along the United States’ southern border with Mexico. Priebus recently was re-elected to serve as Republican National Committee chairman but will give up that job to join Trump in the White House, where the low-key Washington operative could help forge ties with Congress to advance Trump’s agenda. Priebus, 44, was a steadfast supporter of Trump during the presidential campaign even as the party fractured amid the choice. ENVIRONMENTAL PROTECTION AGENCY ADMINISTRATOR: SCOTT PRUITT An ardent opponent of Obama’s measures to stem climate change, Oklahoma Attorney General Pruitt, 48, has enraged environmental activists. But he fits in with the president-elect’s promise to cut the agency back and eliminate regulation that he says is stifling oil and gas drilling. Pruitt became the top state prosecutor for Oklahoma, which has extensive oil reserves, in 2011 and has challenged the EPA multiple times since. U.S. Representative Mick Mulvaney, 49, a South Carolina Republican, is a fiscal conservative. He was an outspoken critic of former House of Representatives Speaker John Boehner, who resigned in 2015 amid opposition from fellow Republicans who were members of the House Freedom Caucus. Mulvaney was first elected to Congress in 2010. Haley, 44, has been the Republican governor of South Carolina since 2011 and has little experience in foreign policy or the federal government. The daughter of Indian immigrants, she led a successful push last year to remove the Confederate battle flag from the grounds of the South Carolina state capitol after the killing of nine black churchgoers in Charleston by a white gunman. McMahon, 68, is a co-founder and former chief executive of the professional wrestling franchise WWE, which is based in Stamford, Connecticut. She ran unsuccessfully as a Republican for a U.S. Senate seat in Connecticut in 2010 and 2012 and was an early supporter of Trump’s presidential campaign. U.S. Representative Pompeo, 53, is a third-term congressman from Kansas who serves on the House of Representatives Intelligence Committee, which oversees the CIA, National Security Agency and cyber security. A retired Army officer and Harvard Law School graduate, Pompeo supports the U.S. government’s sweeping collection of Americans’ communications data and wants to scrap the nuclear deal with Iran. Walter “Jay” Clayton is a New York-based attorney who advises clients on major Wall Street deals, specializing in public and private mergers and acquisitions and capital-raising efforts. His past clients have included Alibaba Group Holding Company, Oaktree Capital Group and big banks.    Retired Lieutenant General Flynn, 58, was an early Trump supporter and serves as vice chairman on his transition team. He began his Army career in 1981 and was deployed in Afghanistan and Iraq. Flynn became head of the Defense Intelligence Agency in 2012 under Obama but retired a year earlier than expected, according to media reports, and became a fierce critic of Obama’s foreign policy. Tom Bossert, 41, who worked as deputy homeland security adviser to former President George W. Bush, will serve as the assistant to the president for homeland security and counterterrorism. He currently runs a risk management consulting firm and has a cyber risk fellowship with the Atlantic Council think tank in Washington. Cohn, 56, president and chief operating officer of Goldman Sachs, had widely been considered heir apparent to Lloyd Blankfein, CEO of the Wall Street firm. Trump hammered Goldman and Blankfein during the presidential campaign, releasing a television ad that called Blankfein part of a “global power structure” that had robbed America’s working class. Navarro, 67, has suggested a stepped-up engagement with Taiwan, including assistance with a submarine development program. A professor at the University of California, Irvine, who advised Trump during the campaign, Navarro argued that Washington should stop referring to the “one China” policy, but stopped short of suggesting it should recognize Taipei: “There is no need to unnecessarily poke the Panda.” Viola, 60, is a graduate of the U.S. Military Academy at West Point and a U.S. Army veteran who served in the famed 101st Airborne Division. He founded high-frequency trading firm Virtu Financial Inc and served as chairman of the New York Mercantile Exchange, where he began his financial services career. After the Sept. 11, 2001, al Qaeda attacks on New York and Washington, Viola helped found the Combating Terrorism Center at West Point. He is an owner of the Florida Panthers ice hockey team. CHIEF WHITE HOUSE STRATEGIST, SENIOR COUNSELOR: STEVE BANNON The former head of the conservative website Breitbart News came aboard as Trump’s campaign chairman in August. A rabble-rousing conservative media figure, he helped shift Breitbart into a forum for the alt-right, a loose confederation of those who reject mainstream politics and includes neo-Nazis, white supremacists and anti-Semites. His hiring signals Trump’s dedication to operating outside the norms of Washington. As White House chief of staff, Bannon, 63, will serve as Trump’s gatekeeper and agenda-setter. '"
      ]
     },
     "execution_count": 128,
     "metadata": {},
     "output_type": "execute_result"
    }
   ],
   "source": [
    "df.iloc[29701].text"
   ]
  },
  {
   "cell_type": "code",
   "execution_count": 129,
   "metadata": {},
   "outputs": [
    {
     "data": {
      "text/plain": [
       "'(Reuters) - U.S. President-elect Donald Trump on Wednesday announced he has chosen David Shulkin, who currently heads the Department of Veterans Affairs healthcare system, to head the agency. Here is a list of Republican Trump’s selections for top jobs in his administration.  NOTE: Senate confirmation is required for all the posts except national security adviser and White House posts. Tillerson, 64, has spent his entire career at Exxon Mobil Corp, where he rose to chairman and chief executive officer in 2006. A civil engineer by training, the Texan joined the world’s largest publicly traded energy company in 1975 and led several of its operations in the United States as well as in Yemen, Thailand and Russia. As Exxon’s chief executive, he maintained close ties with Moscow and opposed U.S. sanctions against Russia for its incursion into Crimea. Mnuchin, 54, is a successful private equity investor, hedge fund manager and Hollywood financier who spent 17 years at Goldman Sachs Group Inc before leaving the investment bank in 2002. He assembled an investor group to buy a failed California mortgage lender in 2009, rebranded it as OneWest Bank and built it into Southern California’s largest bank. Housing advocacy groups criticized OneWest for its foreclosure practices, accusing it of being too quick to foreclose on struggling homeowners. Mattis is a retired Marine general known for his tough talk, distrust of Iran and battlefield experience in Iraq and Afghanistan. A former leader of Central Command, which oversees U.S. military operations in the Middle East and South Asia, Mattis, 66, is known by many U.S. forces by his nickname, “Mad Dog.” He was rebuked in 2005 for saying: “It’s fun to shoot some people.” Sessions, 70, was the first U.S. senator to endorse Trump’s presidential bid and has been a close ally since. Son of a country store owner, the lawmaker from Alabama and former federal prosecutor has long taken a tough stance on illegal immigration, opposing any path to citizenship for undocumented immigrants. Coats, 73, served as U.S. senator from Indiana from 1989 to 1999 and again from 2011 to 2017, and was U.S. ambassador to Germany from 2001 to 2005. He previously served as U.S. representative from Indiana’s 4th Congressional District. Zinke, 55, a first-term Republican U.S. representative from Montana and a member of the House subcommittee on natural resources, has voted for legislation that would weaken environmental safeguards on public lands. He has taken stances favoring the coal industry, which suffered during the Obama administration. The League of Conservation Voters, which ranks lawmakers on their environmental record, gave Zinke an extremely low lifetime score of 3 percent. Ross, 79, heads the private equity firm WL Ross & Co. Forbes has pegged his net worth at about $2.9 billion. A staunch supporter of Trump, Ross helped shape the Trump campaign’s views on trade policy. He blames massive U.S. factory job losses on the North American Free Trade Agreement (NAFTA) with Canada and Mexico, which went into force in 1994, and the 2001 entry of China into the World Trade Organization.      Lighthizer, 69, served as deputy U.S. trade representative during the Reagan administration in the 1980s and has since spent nearly three decades as a lawyer representing U.S. companies in anti-dumping and anti-subsidy cases, currently with the law firm Skadden, Arps, Slate, Meagher and Flom. A harsh critic of China’s trade practices, Lighthizer in 2010 told Congress that U.S. policymakers should take a more aggressive approach in dealing with the Asian country. Puzder, chief executive officer of CKE Restaurants Inc [APOLOT.UL], which runs the Carl’s Jr. and Hardee’s fast-food chains, has been a vociferous critic of government regulation of the workplace and the National Labor Relations Board. Puzder, 66, has argued that higher minimum wages would hurt workers by forcing restaurants to close and praises the benefits of automation, so his appointment is likely to antagonize organized labor.  U.S. Representative Price, 62, is an orthopedic surgeon who heads the House Budget Committee. A representative from Georgia since 2005, Price has criticized Obamacare and has championed a plan of tax credits, expanded health savings accounts and lawsuit reforms to replace it. He is against abortion. Shulkin, 57, currently is under secretary for health at the Department of Veterans Affairs, putting him in charge of the country’s largest healthcare system. Shulkin, a physician, was chosen by Democratic President Barack Obama for the under secretary post in 2015. He has spearheaded an effort to cut waiting times for care at VA medical centers. Trump promised during the campaign to improve medical care for veterans. Shulkin would be the first VA secretary who had not served in the military. Carson, 65, is a retired neurosurgeon who dropped out of the Republican presidential nominating race in March and threw his support to Trump. A popular writer and speaker in conservative circles, Carson had been reluctant to take a position in the incoming administration because of his lack of experience in the federal government. He is the first African-American picked for a Cabinet spot by Trump. Chao, 63, was labor secretary under President George W. Bush for eight years and the first Asian-American woman to hold a Cabinet position. She is a director at Ingersoll Rand Plc, News Corp and Vulcan Materials Co. She is married to U.S. Senate Majority Leader Mitch McConnell, a Republican from Kentucky. Perry, 66, is an addition to the list of oil drilling advocates skeptical about climate change who have been picked for senior positions in Trump’s Cabinet. The selections have worried environmentalists but cheered an oil and gas industry eager for expansion. Perry, who ran unsuccessfully for the 2012 Republican presidential nomination and also briefly ran for president in 2016, would be responsible for U.S. energy policy and oversee the nation’s nuclear weapons program.  DeVos, 59, is a billionaire Republican donor, a former chair of the Michigan Republican Party and an advocate for the privatization of education. As chair of the American Federation for Children, she has pushed at the state level for vouchers that families can use to send their children to private schools and for expansion of charter schools. The final leadership role of Kelly’s 45-year military career was head of the U.S. Southern Command, responsible for U.S. military activities and relationships in Latin America and the Caribbean. The 66-year-old retired Marine general differed with Obama on key issues and has warned of vulnerabilities along the United States’ southern border with Mexico. Priebus recently was re-elected to serve as Republican National Committee chairman but will give up that job to join Trump in the White House, where the low-key Washington operative could help forge ties with Congress to advance Trump’s agenda. Priebus, 44, was a steadfast supporter of Trump during the presidential campaign even as the party fractured amid the choice. ENVIRONMENTAL PROTECTION AGENCY ADMINISTRATOR: SCOTT PRUITT An ardent opponent of Obama’s measures to stem climate change, Oklahoma Attorney General Pruitt, 48, has enraged environmental activists. But he fits in with the president-elect’s promise to cut the agency back and eliminate regulation that he says is stifling oil and gas drilling. Pruitt became the top state prosecutor for Oklahoma, which has extensive oil reserves, in 2011 and has challenged the EPA multiple times since. U.S. Representative Mick Mulvaney, 49, a South Carolina Republican, is a fiscal conservative. He was an outspoken critic of former House of Representatives Speaker John Boehner, who resigned in 2015 amid opposition from fellow Republicans who were members of the House Freedom Caucus. Mulvaney was first elected to Congress in 2010. Haley, 44, has been the Republican governor of South Carolina since 2011 and has little experience in foreign policy or the federal government. The daughter of Indian immigrants, she led a successful push last year to remove the Confederate battle flag from the grounds of the South Carolina state capitol after the killing of nine black churchgoers in Charleston by a white gunman. McMahon, 68, is a co-founder and former chief executive of the professional wrestling franchise WWE, which is based in Stamford, Connecticut. She ran unsuccessfully as a Republican for a U.S. Senate seat in Connecticut in 2010 and 2012 and was an early supporter of Trump’s presidential campaign. U.S. Representative Pompeo, 53, is a third-term congressman from Kansas who serves on the House of Representatives Intelligence Committee, which oversees the CIA, National Security Agency and cyber security. A retired Army officer and Harvard Law School graduate, Pompeo supports the U.S. government’s sweeping collection of Americans’ communications data and wants to scrap the nuclear deal with Iran. Walter “Jay” Clayton is a New York-based attorney who advises clients on major Wall Street deals, specializing in public and private mergers and acquisitions and capital-raising efforts. His past clients have included Alibaba Group Holding Company, Oaktree Capital Group and big banks.    Retired Lieutenant General Flynn, 58, was an early Trump supporter and serves as vice chairman on his transition team. He began his Army career in 1981 and was deployed in Afghanistan and Iraq. Flynn became head of the Defense Intelligence Agency in 2012 under Obama but retired a year earlier than expected, according to media reports, and became a fierce critic of Obama’s foreign policy. Tom Bossert, 41, who worked as deputy homeland security adviser to former President George W. Bush, will serve as the assistant to the president for homeland security and counterterrorism. He currently runs a risk management consulting firm and has a cyber risk fellowship with the Atlantic Council think tank in Washington. Cohn, 56, president and chief operating officer of Goldman Sachs, had widely been considered heir apparent to Lloyd Blankfein, CEO of the Wall Street firm. Trump hammered Goldman and Blankfein during the presidential campaign, releasing a television ad that called Blankfein part of a “global power structure” that had robbed America’s working class. Navarro, 67, has suggested a stepped-up engagement with Taiwan, including assistance with a submarine development program. A professor at the University of California, Irvine, who advised Trump during the campaign, Navarro argued that Washington should stop referring to the “one China” policy, but stopped short of suggesting it should recognize Taipei: “There is no need to unnecessarily poke the Panda.” Viola, 60, is a graduate of the U.S. Military Academy at West Point and a U.S. Army veteran who served in the famed 101st Airborne Division. He founded high-frequency trading firm Virtu Financial Inc and served as chairman of the New York Mercantile Exchange, where he began his financial services career. After the Sept. 11, 2001, al Qaeda attacks on New York and Washington, Viola helped found the Combating Terrorism Center at West Point. He is an owner of the Florida Panthers ice hockey team. CHIEF WHITE HOUSE STRATEGIST, SENIOR COUNSELOR: STEVE BANNON The former head of the conservative website Breitbart News came aboard as Trump’s campaign chairman in August. A rabble-rousing conservative media figure, he helped shift Breitbart into a forum for the alt-right, a loose confederation of those who reject mainstream politics and includes neo-Nazis, white supremacists and anti-Semites. His hiring signals Trump’s dedication to operating outside the norms of Washington. As White House chief of staff, Bannon, 63, will serve as Trump’s gatekeeper and agenda-setter. '"
      ]
     },
     "execution_count": 129,
     "metadata": {},
     "output_type": "execute_result"
    }
   ],
   "source": [
    "df.iloc[29875].text"
   ]
  },
  {
   "cell_type": "markdown",
   "metadata": {},
   "source": [
    "### Dataframe with all the data with duplicate titles"
   ]
  },
  {
   "cell_type": "code",
   "execution_count": 130,
   "metadata": {},
   "outputs": [],
   "source": [
    "duplicate_title_list = set(title_value_counts[title_value_counts > 1].keys())"
   ]
  },
  {
   "cell_type": "code",
   "execution_count": 131,
   "metadata": {},
   "outputs": [],
   "source": [
    "df_dup_titles = df[df.title.isin(duplicate_title_list)]"
   ]
  },
  {
   "cell_type": "code",
   "execution_count": 132,
   "metadata": {},
   "outputs": [
    {
     "data": {
      "text/html": [
       "<div>\n",
       "<style scoped>\n",
       "    .dataframe tbody tr th:only-of-type {\n",
       "        vertical-align: middle;\n",
       "    }\n",
       "\n",
       "    .dataframe tbody tr th {\n",
       "        vertical-align: top;\n",
       "    }\n",
       "\n",
       "    .dataframe thead th {\n",
       "        text-align: right;\n",
       "    }\n",
       "</style>\n",
       "<table border=\"1\" class=\"dataframe\">\n",
       "  <thead>\n",
       "    <tr style=\"text-align: right;\">\n",
       "      <th></th>\n",
       "      <th>title</th>\n",
       "      <th>text</th>\n",
       "      <th>subject</th>\n",
       "      <th>date</th>\n",
       "      <th>label</th>\n",
       "    </tr>\n",
       "  </thead>\n",
       "  <tbody>\n",
       "    <tr>\n",
       "      <th>1488</th>\n",
       "      <td>McConnell Says He’ll Obstruct ANY Effort To H...</td>\n",
       "      <td>Siding with Trump s Attorney General Jeff Sess...</td>\n",
       "      <td>News</td>\n",
       "      <td>May 12, 2017</td>\n",
       "      <td>fake</td>\n",
       "    </tr>\n",
       "    <tr>\n",
       "      <th>1535</th>\n",
       "      <td>McConnell Says He’ll Obstruct ANY Effort To H...</td>\n",
       "      <td>Siding with Trump s Attorney General Jeff Sess...</td>\n",
       "      <td>News</td>\n",
       "      <td>May 10, 2017</td>\n",
       "      <td>fake</td>\n",
       "    </tr>\n",
       "    <tr>\n",
       "      <th>9087</th>\n",
       "      <td>BARBRA STREISAND Gives Up On Dream Of Impeachi...</td>\n",
       "      <td>Barbra Streisand was an Obama sycophant and on...</td>\n",
       "      <td>politics</td>\n",
       "      <td>Dec 31, 2017</td>\n",
       "      <td>fake</td>\n",
       "    </tr>\n",
       "    <tr>\n",
       "      <th>9088</th>\n",
       "      <td>WATCH: SENATOR LINDSEY GRAHAM DROPS BOMBSHELL…...</td>\n",
       "      <td>Everyone suspected the sketchy Steele Dossier ...</td>\n",
       "      <td>politics</td>\n",
       "      <td>Dec 31, 2017</td>\n",
       "      <td>fake</td>\n",
       "    </tr>\n",
       "    <tr>\n",
       "      <th>9089</th>\n",
       "      <td>“CONSERVATIVE GAY GUY” BLASTS Pence’s Aspen Ne...</td>\n",
       "      <td>It s been said that good fences make good neig...</td>\n",
       "      <td>politics</td>\n",
       "      <td>Dec 30, 2017</td>\n",
       "      <td>fake</td>\n",
       "    </tr>\n",
       "    <tr>\n",
       "      <th>...</th>\n",
       "      <td>...</td>\n",
       "      <td>...</td>\n",
       "      <td>...</td>\n",
       "      <td>...</td>\n",
       "      <td>...</td>\n",
       "    </tr>\n",
       "    <tr>\n",
       "      <th>44884</th>\n",
       "      <td>U.S. puts more pressure on Pakistan to help wi...</td>\n",
       "      <td>WASHINGTON (Reuters) - The United States sugge...</td>\n",
       "      <td>worldnews</td>\n",
       "      <td>August 21, 2017</td>\n",
       "      <td>true</td>\n",
       "    </tr>\n",
       "    <tr>\n",
       "      <th>44886</th>\n",
       "      <td>Trump talks tough on Pakistan's 'terrorist' ha...</td>\n",
       "      <td>ISLAMABAD (Reuters) - Outlining a new strategy...</td>\n",
       "      <td>worldnews</td>\n",
       "      <td>August 22, 2017</td>\n",
       "      <td>true</td>\n",
       "    </tr>\n",
       "    <tr>\n",
       "      <th>44887</th>\n",
       "      <td>U.S., North Korea clash at U.N. forum over nuc...</td>\n",
       "      <td>GENEVA (Reuters) - North Korea and the United ...</td>\n",
       "      <td>worldnews</td>\n",
       "      <td>August 22, 2017</td>\n",
       "      <td>true</td>\n",
       "    </tr>\n",
       "    <tr>\n",
       "      <th>44889</th>\n",
       "      <td>U.S., North Korea clash at U.N. forum over nuc...</td>\n",
       "      <td>GENEVA (Reuters) - North Korea and the United ...</td>\n",
       "      <td>worldnews</td>\n",
       "      <td>August 22, 2017</td>\n",
       "      <td>true</td>\n",
       "    </tr>\n",
       "    <tr>\n",
       "      <th>44893</th>\n",
       "      <td>'Fully committed' NATO backs new U.S. approach...</td>\n",
       "      <td>BRUSSELS (Reuters) - NATO allies on Tuesday we...</td>\n",
       "      <td>worldnews</td>\n",
       "      <td>August 22, 2017</td>\n",
       "      <td>true</td>\n",
       "    </tr>\n",
       "  </tbody>\n",
       "</table>\n",
       "<p>11798 rows × 5 columns</p>\n",
       "</div>"
      ],
      "text/plain": [
       "                                                   title  \\\n",
       "1488    McConnell Says He’ll Obstruct ANY Effort To H...   \n",
       "1535    McConnell Says He’ll Obstruct ANY Effort To H...   \n",
       "9087   BARBRA STREISAND Gives Up On Dream Of Impeachi...   \n",
       "9088   WATCH: SENATOR LINDSEY GRAHAM DROPS BOMBSHELL…...   \n",
       "9089   “CONSERVATIVE GAY GUY” BLASTS Pence’s Aspen Ne...   \n",
       "...                                                  ...   \n",
       "44884  U.S. puts more pressure on Pakistan to help wi...   \n",
       "44886  Trump talks tough on Pakistan's 'terrorist' ha...   \n",
       "44887  U.S., North Korea clash at U.N. forum over nuc...   \n",
       "44889  U.S., North Korea clash at U.N. forum over nuc...   \n",
       "44893  'Fully committed' NATO backs new U.S. approach...   \n",
       "\n",
       "                                                    text    subject  \\\n",
       "1488   Siding with Trump s Attorney General Jeff Sess...       News   \n",
       "1535   Siding with Trump s Attorney General Jeff Sess...       News   \n",
       "9087   Barbra Streisand was an Obama sycophant and on...   politics   \n",
       "9088   Everyone suspected the sketchy Steele Dossier ...   politics   \n",
       "9089   It s been said that good fences make good neig...   politics   \n",
       "...                                                  ...        ...   \n",
       "44884  WASHINGTON (Reuters) - The United States sugge...  worldnews   \n",
       "44886  ISLAMABAD (Reuters) - Outlining a new strategy...  worldnews   \n",
       "44887  GENEVA (Reuters) - North Korea and the United ...  worldnews   \n",
       "44889  GENEVA (Reuters) - North Korea and the United ...  worldnews   \n",
       "44893  BRUSSELS (Reuters) - NATO allies on Tuesday we...  worldnews   \n",
       "\n",
       "                   date label  \n",
       "1488       May 12, 2017  fake  \n",
       "1535       May 10, 2017  fake  \n",
       "9087       Dec 31, 2017  fake  \n",
       "9088       Dec 31, 2017  fake  \n",
       "9089       Dec 30, 2017  fake  \n",
       "...                 ...   ...  \n",
       "44884  August 21, 2017   true  \n",
       "44886  August 22, 2017   true  \n",
       "44887  August 22, 2017   true  \n",
       "44889  August 22, 2017   true  \n",
       "44893  August 22, 2017   true  \n",
       "\n",
       "[11798 rows x 5 columns]"
      ]
     },
     "execution_count": 132,
     "metadata": {},
     "output_type": "execute_result"
    }
   ],
   "source": [
    "df_dup_titles"
   ]
  },
  {
   "cell_type": "code",
   "execution_count": 133,
   "metadata": {},
   "outputs": [
    {
     "data": {
      "text/html": [
       "<div>\n",
       "<style scoped>\n",
       "    .dataframe tbody tr th:only-of-type {\n",
       "        vertical-align: middle;\n",
       "    }\n",
       "\n",
       "    .dataframe tbody tr th {\n",
       "        vertical-align: top;\n",
       "    }\n",
       "\n",
       "    .dataframe thead th {\n",
       "        text-align: right;\n",
       "    }\n",
       "</style>\n",
       "<table border=\"1\" class=\"dataframe\">\n",
       "  <thead>\n",
       "    <tr style=\"text-align: right;\">\n",
       "      <th></th>\n",
       "      <th>title</th>\n",
       "      <th>text</th>\n",
       "      <th>subject</th>\n",
       "      <th>date</th>\n",
       "      <th>label</th>\n",
       "    </tr>\n",
       "  </thead>\n",
       "  <tbody>\n",
       "    <tr>\n",
       "      <th>9942</th>\n",
       "      <td>HILLARY TWEETS MESSAGE In Defense Of DACA…OOPS...</td>\n",
       "      <td>No time to waste   we've got to fight with eve...</td>\n",
       "      <td>politics</td>\n",
       "      <td>Sep 9, 2017</td>\n",
       "      <td>fake</td>\n",
       "    </tr>\n",
       "    <tr>\n",
       "      <th>11446</th>\n",
       "      <td>FORMER DEMOCRAT WARNS Young Americans: “Rioter...</td>\n",
       "      <td>Who is silencing political speech, physically...</td>\n",
       "      <td>politics</td>\n",
       "      <td>Mar 10, 2017</td>\n",
       "      <td>fake</td>\n",
       "    </tr>\n",
       "    <tr>\n",
       "      <th>14925</th>\n",
       "      <td>[VIDEO] #BlackLivesMatter Terrorists Storm Dar...</td>\n",
       "      <td>They were probably just looking for a  safe sp...</td>\n",
       "      <td>politics</td>\n",
       "      <td>Nov 16, 2015</td>\n",
       "      <td>fake</td>\n",
       "    </tr>\n",
       "    <tr>\n",
       "      <th>23926</th>\n",
       "      <td>Senate tax bill stalls on deficit-focused 'tri...</td>\n",
       "      <td>WASHINGTON (Reuters) - The U.S. Senate on Thur...</td>\n",
       "      <td>politicsNews</td>\n",
       "      <td>November 30, 2017</td>\n",
       "      <td>true</td>\n",
       "    </tr>\n",
       "    <tr>\n",
       "      <th>24259</th>\n",
       "      <td>Trump warns 'rogue regime' North Korea of grav...</td>\n",
       "      <td>BEIJING (Reuters) - U.S. President Donald Trum...</td>\n",
       "      <td>politicsNews</td>\n",
       "      <td>November 8, 2017</td>\n",
       "      <td>true</td>\n",
       "    </tr>\n",
       "    <tr>\n",
       "      <th>...</th>\n",
       "      <td>...</td>\n",
       "      <td>...</td>\n",
       "      <td>...</td>\n",
       "      <td>...</td>\n",
       "      <td>...</td>\n",
       "    </tr>\n",
       "    <tr>\n",
       "      <th>44709</th>\n",
       "      <td>France unveils labor reforms in first step to ...</td>\n",
       "      <td>PARIS (Reuters) - French President Emmanuel Ma...</td>\n",
       "      <td>worldnews</td>\n",
       "      <td>August 31, 2017</td>\n",
       "      <td>true</td>\n",
       "    </tr>\n",
       "    <tr>\n",
       "      <th>44744</th>\n",
       "      <td>Guatemala top court sides with U.N. graft unit...</td>\n",
       "      <td>GUATEMALA CITY (Reuters) - Guatemala s top cou...</td>\n",
       "      <td>worldnews</td>\n",
       "      <td>August 29, 2017</td>\n",
       "      <td>true</td>\n",
       "    </tr>\n",
       "    <tr>\n",
       "      <th>44771</th>\n",
       "      <td>Europeans, Africans agree renewed push to tack...</td>\n",
       "      <td>PARIS (Reuters) - Europe s  big four  continen...</td>\n",
       "      <td>worldnews</td>\n",
       "      <td>August 28, 2017</td>\n",
       "      <td>true</td>\n",
       "    </tr>\n",
       "    <tr>\n",
       "      <th>44834</th>\n",
       "      <td>Thailand's ousted PM Yingluck has fled abroad:...</td>\n",
       "      <td>BANGKOK (Reuters) - Ousted Thai prime minister...</td>\n",
       "      <td>worldnews</td>\n",
       "      <td>August 25, 2017</td>\n",
       "      <td>true</td>\n",
       "    </tr>\n",
       "    <tr>\n",
       "      <th>44889</th>\n",
       "      <td>U.S., North Korea clash at U.N. forum over nuc...</td>\n",
       "      <td>GENEVA (Reuters) - North Korea and the United ...</td>\n",
       "      <td>worldnews</td>\n",
       "      <td>August 22, 2017</td>\n",
       "      <td>true</td>\n",
       "    </tr>\n",
       "  </tbody>\n",
       "</table>\n",
       "<p>209 rows × 5 columns</p>\n",
       "</div>"
      ],
      "text/plain": [
       "                                                   title  \\\n",
       "9942   HILLARY TWEETS MESSAGE In Defense Of DACA…OOPS...   \n",
       "11446  FORMER DEMOCRAT WARNS Young Americans: “Rioter...   \n",
       "14925  [VIDEO] #BlackLivesMatter Terrorists Storm Dar...   \n",
       "23926  Senate tax bill stalls on deficit-focused 'tri...   \n",
       "24259  Trump warns 'rogue regime' North Korea of grav...   \n",
       "...                                                  ...   \n",
       "44709  France unveils labor reforms in first step to ...   \n",
       "44744  Guatemala top court sides with U.N. graft unit...   \n",
       "44771  Europeans, Africans agree renewed push to tack...   \n",
       "44834  Thailand's ousted PM Yingluck has fled abroad:...   \n",
       "44889  U.S., North Korea clash at U.N. forum over nuc...   \n",
       "\n",
       "                                                    text       subject  \\\n",
       "9942   No time to waste   we've got to fight with eve...      politics   \n",
       "11446   Who is silencing political speech, physically...      politics   \n",
       "14925  They were probably just looking for a  safe sp...      politics   \n",
       "23926  WASHINGTON (Reuters) - The U.S. Senate on Thur...  politicsNews   \n",
       "24259  BEIJING (Reuters) - U.S. President Donald Trum...  politicsNews   \n",
       "...                                                  ...           ...   \n",
       "44709  PARIS (Reuters) - French President Emmanuel Ma...     worldnews   \n",
       "44744  GUATEMALA CITY (Reuters) - Guatemala s top cou...     worldnews   \n",
       "44771  PARIS (Reuters) - Europe s  big four  continen...     worldnews   \n",
       "44834  BANGKOK (Reuters) - Ousted Thai prime minister...     worldnews   \n",
       "44889  GENEVA (Reuters) - North Korea and the United ...     worldnews   \n",
       "\n",
       "                     date label  \n",
       "9942          Sep 9, 2017  fake  \n",
       "11446        Mar 10, 2017  fake  \n",
       "14925        Nov 16, 2015  fake  \n",
       "23926  November 30, 2017   true  \n",
       "24259   November 8, 2017   true  \n",
       "...                   ...   ...  \n",
       "44709    August 31, 2017   true  \n",
       "44744    August 29, 2017   true  \n",
       "44771    August 28, 2017   true  \n",
       "44834    August 25, 2017   true  \n",
       "44889    August 22, 2017   true  \n",
       "\n",
       "[209 rows x 5 columns]"
      ]
     },
     "execution_count": 133,
     "metadata": {},
     "output_type": "execute_result"
    }
   ],
   "source": [
    "df_dup_titles[df_dup_titles.duplicated()]"
   ]
  },
  {
   "cell_type": "markdown",
   "metadata": {},
   "source": [
    "There are 209 duplicate rows that will need to be deleted."
   ]
  },
  {
   "cell_type": "markdown",
   "metadata": {},
   "source": [
    "Check for rows with duplicate text"
   ]
  },
  {
   "cell_type": "code",
   "execution_count": 134,
   "metadata": {},
   "outputs": [
    {
     "data": {
      "text/html": [
       "<div>\n",
       "<style scoped>\n",
       "    .dataframe tbody tr th:only-of-type {\n",
       "        vertical-align: middle;\n",
       "    }\n",
       "\n",
       "    .dataframe tbody tr th {\n",
       "        vertical-align: top;\n",
       "    }\n",
       "\n",
       "    .dataframe thead th {\n",
       "        text-align: right;\n",
       "    }\n",
       "</style>\n",
       "<table border=\"1\" class=\"dataframe\">\n",
       "  <thead>\n",
       "    <tr style=\"text-align: right;\">\n",
       "      <th></th>\n",
       "      <th>title</th>\n",
       "      <th>text</th>\n",
       "      <th>subject</th>\n",
       "      <th>date</th>\n",
       "      <th>label</th>\n",
       "    </tr>\n",
       "  </thead>\n",
       "  <tbody>\n",
       "    <tr>\n",
       "      <th>9114</th>\n",
       "      <td>WHY THIS BLUE-COLLAR DEMOCRAT STRONGHOLD Count...</td>\n",
       "      <td>AP News  The regulars amble in before dawn and...</td>\n",
       "      <td>politics</td>\n",
       "      <td>Dec 27, 2017</td>\n",
       "      <td>fake</td>\n",
       "    </tr>\n",
       "    <tr>\n",
       "      <th>9738</th>\n",
       "      <td>LEFTIST STORE OWNER Makes Video Asking Libs To...</td>\n",
       "      <td>Things didn t go as well as Nicholle had hoped...</td>\n",
       "      <td>politics</td>\n",
       "      <td>Oct 6, 2017</td>\n",
       "      <td>fake</td>\n",
       "    </tr>\n",
       "    <tr>\n",
       "      <th>9942</th>\n",
       "      <td>HILLARY TWEETS MESSAGE In Defense Of DACA…OOPS...</td>\n",
       "      <td>No time to waste   we've got to fight with eve...</td>\n",
       "      <td>politics</td>\n",
       "      <td>Sep 9, 2017</td>\n",
       "      <td>fake</td>\n",
       "    </tr>\n",
       "    <tr>\n",
       "      <th>11041</th>\n",
       "      <td>Joe Scarborough BERATES Mika Brzezinski Over “...</td>\n",
       "      <td></td>\n",
       "      <td>politics</td>\n",
       "      <td>Apr 26, 2017</td>\n",
       "      <td>fake</td>\n",
       "    </tr>\n",
       "    <tr>\n",
       "      <th>11190</th>\n",
       "      <td>WATCH TUCKER CARLSON Scorch Sanctuary City May...</td>\n",
       "      <td></td>\n",
       "      <td>politics</td>\n",
       "      <td>Apr 6, 2017</td>\n",
       "      <td>fake</td>\n",
       "    </tr>\n",
       "    <tr>\n",
       "      <th>...</th>\n",
       "      <td>...</td>\n",
       "      <td>...</td>\n",
       "      <td>...</td>\n",
       "      <td>...</td>\n",
       "      <td>...</td>\n",
       "    </tr>\n",
       "    <tr>\n",
       "      <th>44709</th>\n",
       "      <td>France unveils labor reforms in first step to ...</td>\n",
       "      <td>PARIS (Reuters) - French President Emmanuel Ma...</td>\n",
       "      <td>worldnews</td>\n",
       "      <td>August 31, 2017</td>\n",
       "      <td>true</td>\n",
       "    </tr>\n",
       "    <tr>\n",
       "      <th>44744</th>\n",
       "      <td>Guatemala top court sides with U.N. graft unit...</td>\n",
       "      <td>GUATEMALA CITY (Reuters) - Guatemala s top cou...</td>\n",
       "      <td>worldnews</td>\n",
       "      <td>August 29, 2017</td>\n",
       "      <td>true</td>\n",
       "    </tr>\n",
       "    <tr>\n",
       "      <th>44771</th>\n",
       "      <td>Europeans, Africans agree renewed push to tack...</td>\n",
       "      <td>PARIS (Reuters) - Europe s  big four  continen...</td>\n",
       "      <td>worldnews</td>\n",
       "      <td>August 28, 2017</td>\n",
       "      <td>true</td>\n",
       "    </tr>\n",
       "    <tr>\n",
       "      <th>44834</th>\n",
       "      <td>Thailand's ousted PM Yingluck has fled abroad:...</td>\n",
       "      <td>BANGKOK (Reuters) - Ousted Thai prime minister...</td>\n",
       "      <td>worldnews</td>\n",
       "      <td>August 25, 2017</td>\n",
       "      <td>true</td>\n",
       "    </tr>\n",
       "    <tr>\n",
       "      <th>44889</th>\n",
       "      <td>U.S., North Korea clash at U.N. forum over nuc...</td>\n",
       "      <td>GENEVA (Reuters) - North Korea and the United ...</td>\n",
       "      <td>worldnews</td>\n",
       "      <td>August 22, 2017</td>\n",
       "      <td>true</td>\n",
       "    </tr>\n",
       "  </tbody>\n",
       "</table>\n",
       "<p>5964 rows × 5 columns</p>\n",
       "</div>"
      ],
      "text/plain": [
       "                                                   title  \\\n",
       "9114   WHY THIS BLUE-COLLAR DEMOCRAT STRONGHOLD Count...   \n",
       "9738   LEFTIST STORE OWNER Makes Video Asking Libs To...   \n",
       "9942   HILLARY TWEETS MESSAGE In Defense Of DACA…OOPS...   \n",
       "11041  Joe Scarborough BERATES Mika Brzezinski Over “...   \n",
       "11190  WATCH TUCKER CARLSON Scorch Sanctuary City May...   \n",
       "...                                                  ...   \n",
       "44709  France unveils labor reforms in first step to ...   \n",
       "44744  Guatemala top court sides with U.N. graft unit...   \n",
       "44771  Europeans, Africans agree renewed push to tack...   \n",
       "44834  Thailand's ousted PM Yingluck has fled abroad:...   \n",
       "44889  U.S., North Korea clash at U.N. forum over nuc...   \n",
       "\n",
       "                                                    text    subject  \\\n",
       "9114   AP News  The regulars amble in before dawn and...   politics   \n",
       "9738   Things didn t go as well as Nicholle had hoped...   politics   \n",
       "9942   No time to waste   we've got to fight with eve...   politics   \n",
       "11041                                                      politics   \n",
       "11190                                                      politics   \n",
       "...                                                  ...        ...   \n",
       "44709  PARIS (Reuters) - French President Emmanuel Ma...  worldnews   \n",
       "44744  GUATEMALA CITY (Reuters) - Guatemala s top cou...  worldnews   \n",
       "44771  PARIS (Reuters) - Europe s  big four  continen...  worldnews   \n",
       "44834  BANGKOK (Reuters) - Ousted Thai prime minister...  worldnews   \n",
       "44889  GENEVA (Reuters) - North Korea and the United ...  worldnews   \n",
       "\n",
       "                   date label  \n",
       "9114       Dec 27, 2017  fake  \n",
       "9738        Oct 6, 2017  fake  \n",
       "9942        Sep 9, 2017  fake  \n",
       "11041      Apr 26, 2017  fake  \n",
       "11190       Apr 6, 2017  fake  \n",
       "...                 ...   ...  \n",
       "44709  August 31, 2017   true  \n",
       "44744  August 29, 2017   true  \n",
       "44771  August 28, 2017   true  \n",
       "44834  August 25, 2017   true  \n",
       "44889  August 22, 2017   true  \n",
       "\n",
       "[5964 rows x 5 columns]"
      ]
     },
     "execution_count": 134,
     "metadata": {},
     "output_type": "execute_result"
    }
   ],
   "source": [
    "df_dup_titles[df_dup_titles.duplicated(['text'])]"
   ]
  },
  {
   "cell_type": "markdown",
   "metadata": {},
   "source": [
    "There are 5964 rows that have duplicate text."
   ]
  },
  {
   "cell_type": "markdown",
   "metadata": {},
   "source": [
    "Check for rows that have duplicate title and text"
   ]
  },
  {
   "cell_type": "code",
   "execution_count": 135,
   "metadata": {},
   "outputs": [
    {
     "data": {
      "text/html": [
       "<div>\n",
       "<style scoped>\n",
       "    .dataframe tbody tr th:only-of-type {\n",
       "        vertical-align: middle;\n",
       "    }\n",
       "\n",
       "    .dataframe tbody tr th {\n",
       "        vertical-align: top;\n",
       "    }\n",
       "\n",
       "    .dataframe thead th {\n",
       "        text-align: right;\n",
       "    }\n",
       "</style>\n",
       "<table border=\"1\" class=\"dataframe\">\n",
       "  <thead>\n",
       "    <tr style=\"text-align: right;\">\n",
       "      <th></th>\n",
       "      <th>title</th>\n",
       "      <th>text</th>\n",
       "      <th>subject</th>\n",
       "      <th>date</th>\n",
       "      <th>label</th>\n",
       "    </tr>\n",
       "  </thead>\n",
       "  <tbody>\n",
       "    <tr>\n",
       "      <th>9942</th>\n",
       "      <td>HILLARY TWEETS MESSAGE In Defense Of DACA…OOPS...</td>\n",
       "      <td>No time to waste   we've got to fight with eve...</td>\n",
       "      <td>politics</td>\n",
       "      <td>Sep 9, 2017</td>\n",
       "      <td>fake</td>\n",
       "    </tr>\n",
       "    <tr>\n",
       "      <th>11446</th>\n",
       "      <td>FORMER DEMOCRAT WARNS Young Americans: “Rioter...</td>\n",
       "      <td>Who is silencing political speech, physically...</td>\n",
       "      <td>politics</td>\n",
       "      <td>Mar 10, 2017</td>\n",
       "      <td>fake</td>\n",
       "    </tr>\n",
       "    <tr>\n",
       "      <th>14925</th>\n",
       "      <td>[VIDEO] #BlackLivesMatter Terrorists Storm Dar...</td>\n",
       "      <td>They were probably just looking for a  safe sp...</td>\n",
       "      <td>politics</td>\n",
       "      <td>Nov 16, 2015</td>\n",
       "      <td>fake</td>\n",
       "    </tr>\n",
       "    <tr>\n",
       "      <th>15892</th>\n",
       "      <td>HOUSE INTEL Slaps Subpoenas on McCain Institut...</td>\n",
       "      <td>Please see our previous report below on the Mc...</td>\n",
       "      <td>Government News</td>\n",
       "      <td>Dec 27, 2017</td>\n",
       "      <td>fake</td>\n",
       "    </tr>\n",
       "    <tr>\n",
       "      <th>15893</th>\n",
       "      <td>PRICELESS! WATCH MSNBC HOST’S Shocked Response...</td>\n",
       "      <td>THIS IS PRICELESS! The video below shows just ...</td>\n",
       "      <td>Government News</td>\n",
       "      <td>Dec 26, 2017</td>\n",
       "      <td>fake</td>\n",
       "    </tr>\n",
       "    <tr>\n",
       "      <th>...</th>\n",
       "      <td>...</td>\n",
       "      <td>...</td>\n",
       "      <td>...</td>\n",
       "      <td>...</td>\n",
       "      <td>...</td>\n",
       "    </tr>\n",
       "    <tr>\n",
       "      <th>44709</th>\n",
       "      <td>France unveils labor reforms in first step to ...</td>\n",
       "      <td>PARIS (Reuters) - French President Emmanuel Ma...</td>\n",
       "      <td>worldnews</td>\n",
       "      <td>August 31, 2017</td>\n",
       "      <td>true</td>\n",
       "    </tr>\n",
       "    <tr>\n",
       "      <th>44744</th>\n",
       "      <td>Guatemala top court sides with U.N. graft unit...</td>\n",
       "      <td>GUATEMALA CITY (Reuters) - Guatemala s top cou...</td>\n",
       "      <td>worldnews</td>\n",
       "      <td>August 29, 2017</td>\n",
       "      <td>true</td>\n",
       "    </tr>\n",
       "    <tr>\n",
       "      <th>44771</th>\n",
       "      <td>Europeans, Africans agree renewed push to tack...</td>\n",
       "      <td>PARIS (Reuters) - Europe s  big four  continen...</td>\n",
       "      <td>worldnews</td>\n",
       "      <td>August 28, 2017</td>\n",
       "      <td>true</td>\n",
       "    </tr>\n",
       "    <tr>\n",
       "      <th>44834</th>\n",
       "      <td>Thailand's ousted PM Yingluck has fled abroad:...</td>\n",
       "      <td>BANGKOK (Reuters) - Ousted Thai prime minister...</td>\n",
       "      <td>worldnews</td>\n",
       "      <td>August 25, 2017</td>\n",
       "      <td>true</td>\n",
       "    </tr>\n",
       "    <tr>\n",
       "      <th>44889</th>\n",
       "      <td>U.S., North Korea clash at U.N. forum over nuc...</td>\n",
       "      <td>GENEVA (Reuters) - North Korea and the United ...</td>\n",
       "      <td>worldnews</td>\n",
       "      <td>August 22, 2017</td>\n",
       "      <td>true</td>\n",
       "    </tr>\n",
       "  </tbody>\n",
       "</table>\n",
       "<p>5793 rows × 5 columns</p>\n",
       "</div>"
      ],
      "text/plain": [
       "                                                   title  \\\n",
       "9942   HILLARY TWEETS MESSAGE In Defense Of DACA…OOPS...   \n",
       "11446  FORMER DEMOCRAT WARNS Young Americans: “Rioter...   \n",
       "14925  [VIDEO] #BlackLivesMatter Terrorists Storm Dar...   \n",
       "15892  HOUSE INTEL Slaps Subpoenas on McCain Institut...   \n",
       "15893  PRICELESS! WATCH MSNBC HOST’S Shocked Response...   \n",
       "...                                                  ...   \n",
       "44709  France unveils labor reforms in first step to ...   \n",
       "44744  Guatemala top court sides with U.N. graft unit...   \n",
       "44771  Europeans, Africans agree renewed push to tack...   \n",
       "44834  Thailand's ousted PM Yingluck has fled abroad:...   \n",
       "44889  U.S., North Korea clash at U.N. forum over nuc...   \n",
       "\n",
       "                                                    text          subject  \\\n",
       "9942   No time to waste   we've got to fight with eve...         politics   \n",
       "11446   Who is silencing political speech, physically...         politics   \n",
       "14925  They were probably just looking for a  safe sp...         politics   \n",
       "15892  Please see our previous report below on the Mc...  Government News   \n",
       "15893  THIS IS PRICELESS! The video below shows just ...  Government News   \n",
       "...                                                  ...              ...   \n",
       "44709  PARIS (Reuters) - French President Emmanuel Ma...        worldnews   \n",
       "44744  GUATEMALA CITY (Reuters) - Guatemala s top cou...        worldnews   \n",
       "44771  PARIS (Reuters) - Europe s  big four  continen...        worldnews   \n",
       "44834  BANGKOK (Reuters) - Ousted Thai prime minister...        worldnews   \n",
       "44889  GENEVA (Reuters) - North Korea and the United ...        worldnews   \n",
       "\n",
       "                   date label  \n",
       "9942        Sep 9, 2017  fake  \n",
       "11446      Mar 10, 2017  fake  \n",
       "14925      Nov 16, 2015  fake  \n",
       "15892      Dec 27, 2017  fake  \n",
       "15893      Dec 26, 2017  fake  \n",
       "...                 ...   ...  \n",
       "44709  August 31, 2017   true  \n",
       "44744  August 29, 2017   true  \n",
       "44771  August 28, 2017   true  \n",
       "44834  August 25, 2017   true  \n",
       "44889  August 22, 2017   true  \n",
       "\n",
       "[5793 rows x 5 columns]"
      ]
     },
     "execution_count": 135,
     "metadata": {},
     "output_type": "execute_result"
    }
   ],
   "source": [
    "df_dup_titles[df_dup_titles.duplicated(['title', 'text'])]"
   ]
  },
  {
   "cell_type": "markdown",
   "metadata": {},
   "source": [
    "Only 5793 rows with duplicate title and text."
   ]
  },
  {
   "cell_type": "markdown",
   "metadata": {},
   "source": [
    "171 rows that have duplicate text but not title\n",
    "Lets Check how many have empty text values\n"
   ]
  },
  {
   "cell_type": "code",
   "execution_count": 136,
   "metadata": {},
   "outputs": [
    {
     "data": {
      "text/html": [
       "<div>\n",
       "<style scoped>\n",
       "    .dataframe tbody tr th:only-of-type {\n",
       "        vertical-align: middle;\n",
       "    }\n",
       "\n",
       "    .dataframe tbody tr th {\n",
       "        vertical-align: top;\n",
       "    }\n",
       "\n",
       "    .dataframe thead th {\n",
       "        text-align: right;\n",
       "    }\n",
       "</style>\n",
       "<table border=\"1\" class=\"dataframe\">\n",
       "  <thead>\n",
       "    <tr style=\"text-align: right;\">\n",
       "      <th></th>\n",
       "      <th>title</th>\n",
       "      <th>text</th>\n",
       "      <th>subject</th>\n",
       "      <th>date</th>\n",
       "      <th>label</th>\n",
       "    </tr>\n",
       "  </thead>\n",
       "  <tbody>\n",
       "    <tr>\n",
       "      <th>10923</th>\n",
       "      <td>TAKE OUR POLL: Who Do You Think President Trum...</td>\n",
       "      <td></td>\n",
       "      <td>politics</td>\n",
       "      <td>May 10, 2017</td>\n",
       "      <td>fake</td>\n",
       "    </tr>\n",
       "    <tr>\n",
       "      <th>11041</th>\n",
       "      <td>Joe Scarborough BERATES Mika Brzezinski Over “...</td>\n",
       "      <td></td>\n",
       "      <td>politics</td>\n",
       "      <td>Apr 26, 2017</td>\n",
       "      <td>fake</td>\n",
       "    </tr>\n",
       "    <tr>\n",
       "      <th>11190</th>\n",
       "      <td>WATCH TUCKER CARLSON Scorch Sanctuary City May...</td>\n",
       "      <td></td>\n",
       "      <td>politics</td>\n",
       "      <td>Apr 6, 2017</td>\n",
       "      <td>fake</td>\n",
       "    </tr>\n",
       "    <tr>\n",
       "      <th>11236</th>\n",
       "      <td>SHOCKER: Public School Turns Computer Lab Into...</td>\n",
       "      <td></td>\n",
       "      <td>politics</td>\n",
       "      <td>Apr 1, 2017</td>\n",
       "      <td>fake</td>\n",
       "    </tr>\n",
       "    <tr>\n",
       "      <th>11247</th>\n",
       "      <td>MICHAEL FLYNN’S LAWYER Releases Statement Scor...</td>\n",
       "      <td></td>\n",
       "      <td>politics</td>\n",
       "      <td>Mar 30, 2017</td>\n",
       "      <td>fake</td>\n",
       "    </tr>\n",
       "    <tr>\n",
       "      <th>...</th>\n",
       "      <td>...</td>\n",
       "      <td>...</td>\n",
       "      <td>...</td>\n",
       "      <td>...</td>\n",
       "      <td>...</td>\n",
       "    </tr>\n",
       "    <tr>\n",
       "      <th>21816</th>\n",
       "      <td>BALTIMORE BURNS: MARYLAND GOVERNOR BRINGS IN N...</td>\n",
       "      <td></td>\n",
       "      <td>left-news</td>\n",
       "      <td>Apr 27, 2015</td>\n",
       "      <td>fake</td>\n",
       "    </tr>\n",
       "    <tr>\n",
       "      <th>21826</th>\n",
       "      <td>FULL VIDEO: THE BLOCKBUSTER INVESTIGATION INTO...</td>\n",
       "      <td></td>\n",
       "      <td>left-news</td>\n",
       "      <td>Apr 25, 2015</td>\n",
       "      <td>fake</td>\n",
       "    </tr>\n",
       "    <tr>\n",
       "      <th>21827</th>\n",
       "      <td>(VIDEO) HILLARY CLINTON: RELIGIOUS BELIEFS MUS...</td>\n",
       "      <td></td>\n",
       "      <td>left-news</td>\n",
       "      <td>Apr 25, 2015</td>\n",
       "      <td>fake</td>\n",
       "    </tr>\n",
       "    <tr>\n",
       "      <th>21857</th>\n",
       "      <td>(VIDEO)ICE PROTECTING OBAMA: WON’T RELEASE NAM...</td>\n",
       "      <td></td>\n",
       "      <td>left-news</td>\n",
       "      <td>Apr 14, 2015</td>\n",
       "      <td>fake</td>\n",
       "    </tr>\n",
       "    <tr>\n",
       "      <th>21873</th>\n",
       "      <td>(VIDEO) HYSTERICAL SNL TAKE ON HILLARY’S ANNOU...</td>\n",
       "      <td></td>\n",
       "      <td>left-news</td>\n",
       "      <td>Apr 12, 2015</td>\n",
       "      <td>fake</td>\n",
       "    </tr>\n",
       "  </tbody>\n",
       "</table>\n",
       "<p>349 rows × 5 columns</p>\n",
       "</div>"
      ],
      "text/plain": [
       "                                                   title text    subject  \\\n",
       "10923  TAKE OUR POLL: Who Do You Think President Trum...        politics   \n",
       "11041  Joe Scarborough BERATES Mika Brzezinski Over “...        politics   \n",
       "11190  WATCH TUCKER CARLSON Scorch Sanctuary City May...        politics   \n",
       "11236  SHOCKER: Public School Turns Computer Lab Into...        politics   \n",
       "11247  MICHAEL FLYNN’S LAWYER Releases Statement Scor...        politics   \n",
       "...                                                  ...  ...        ...   \n",
       "21816  BALTIMORE BURNS: MARYLAND GOVERNOR BRINGS IN N...       left-news   \n",
       "21826  FULL VIDEO: THE BLOCKBUSTER INVESTIGATION INTO...       left-news   \n",
       "21827  (VIDEO) HILLARY CLINTON: RELIGIOUS BELIEFS MUS...       left-news   \n",
       "21857  (VIDEO)ICE PROTECTING OBAMA: WON’T RELEASE NAM...       left-news   \n",
       "21873  (VIDEO) HYSTERICAL SNL TAKE ON HILLARY’S ANNOU...       left-news   \n",
       "\n",
       "               date label  \n",
       "10923  May 10, 2017  fake  \n",
       "11041  Apr 26, 2017  fake  \n",
       "11190   Apr 6, 2017  fake  \n",
       "11236   Apr 1, 2017  fake  \n",
       "11247  Mar 30, 2017  fake  \n",
       "...             ...   ...  \n",
       "21816  Apr 27, 2015  fake  \n",
       "21826  Apr 25, 2015  fake  \n",
       "21827  Apr 25, 2015  fake  \n",
       "21857  Apr 14, 2015  fake  \n",
       "21873  Apr 12, 2015  fake  \n",
       "\n",
       "[349 rows x 5 columns]"
      ]
     },
     "execution_count": 136,
     "metadata": {},
     "output_type": "execute_result"
    }
   ],
   "source": [
    "df_dup_titles[df_dup_titles.text == ' ']"
   ]
  },
  {
   "cell_type": "markdown",
   "metadata": {},
   "source": [
    "There are around 11,800 rows that have titles used multiple times.\n",
    "The Duplicate rows and rows with duplicate text has to be removed. Rows without text also need to be removed.|"
   ]
  },
  {
   "cell_type": "code",
   "execution_count": 137,
   "metadata": {},
   "outputs": [
    {
     "data": {
      "text/html": [
       "<div>\n",
       "<style scoped>\n",
       "    .dataframe tbody tr th:only-of-type {\n",
       "        vertical-align: middle;\n",
       "    }\n",
       "\n",
       "    .dataframe tbody tr th {\n",
       "        vertical-align: top;\n",
       "    }\n",
       "\n",
       "    .dataframe thead th {\n",
       "        text-align: right;\n",
       "    }\n",
       "</style>\n",
       "<table border=\"1\" class=\"dataframe\">\n",
       "  <thead>\n",
       "    <tr style=\"text-align: right;\">\n",
       "      <th></th>\n",
       "      <th>title</th>\n",
       "      <th>text</th>\n",
       "      <th>subject</th>\n",
       "      <th>date</th>\n",
       "      <th>label</th>\n",
       "    </tr>\n",
       "  </thead>\n",
       "  <tbody>\n",
       "    <tr>\n",
       "      <th>10923</th>\n",
       "      <td>TAKE OUR POLL: Who Do You Think President Trum...</td>\n",
       "      <td></td>\n",
       "      <td>politics</td>\n",
       "      <td>May 10, 2017</td>\n",
       "      <td>fake</td>\n",
       "    </tr>\n",
       "    <tr>\n",
       "      <th>11041</th>\n",
       "      <td>Joe Scarborough BERATES Mika Brzezinski Over “...</td>\n",
       "      <td></td>\n",
       "      <td>politics</td>\n",
       "      <td>Apr 26, 2017</td>\n",
       "      <td>fake</td>\n",
       "    </tr>\n",
       "    <tr>\n",
       "      <th>11190</th>\n",
       "      <td>WATCH TUCKER CARLSON Scorch Sanctuary City May...</td>\n",
       "      <td></td>\n",
       "      <td>politics</td>\n",
       "      <td>Apr 6, 2017</td>\n",
       "      <td>fake</td>\n",
       "    </tr>\n",
       "    <tr>\n",
       "      <th>11225</th>\n",
       "      <td>MAYOR OF SANCTUARY CITY: Trump Trying To Make ...</td>\n",
       "      <td></td>\n",
       "      <td>politics</td>\n",
       "      <td>Apr 2, 2017</td>\n",
       "      <td>fake</td>\n",
       "    </tr>\n",
       "    <tr>\n",
       "      <th>11236</th>\n",
       "      <td>SHOCKER: Public School Turns Computer Lab Into...</td>\n",
       "      <td></td>\n",
       "      <td>politics</td>\n",
       "      <td>Apr 1, 2017</td>\n",
       "      <td>fake</td>\n",
       "    </tr>\n",
       "    <tr>\n",
       "      <th>...</th>\n",
       "      <td>...</td>\n",
       "      <td>...</td>\n",
       "      <td>...</td>\n",
       "      <td>...</td>\n",
       "      <td>...</td>\n",
       "    </tr>\n",
       "    <tr>\n",
       "      <th>21826</th>\n",
       "      <td>FULL VIDEO: THE BLOCKBUSTER INVESTIGATION INTO...</td>\n",
       "      <td></td>\n",
       "      <td>left-news</td>\n",
       "      <td>Apr 25, 2015</td>\n",
       "      <td>fake</td>\n",
       "    </tr>\n",
       "    <tr>\n",
       "      <th>21827</th>\n",
       "      <td>(VIDEO) HILLARY CLINTON: RELIGIOUS BELIEFS MUS...</td>\n",
       "      <td></td>\n",
       "      <td>left-news</td>\n",
       "      <td>Apr 25, 2015</td>\n",
       "      <td>fake</td>\n",
       "    </tr>\n",
       "    <tr>\n",
       "      <th>21857</th>\n",
       "      <td>(VIDEO)ICE PROTECTING OBAMA: WON’T RELEASE NAM...</td>\n",
       "      <td></td>\n",
       "      <td>left-news</td>\n",
       "      <td>Apr 14, 2015</td>\n",
       "      <td>fake</td>\n",
       "    </tr>\n",
       "    <tr>\n",
       "      <th>21873</th>\n",
       "      <td>(VIDEO) HYSTERICAL SNL TAKE ON HILLARY’S ANNOU...</td>\n",
       "      <td></td>\n",
       "      <td>left-news</td>\n",
       "      <td>Apr 12, 2015</td>\n",
       "      <td>fake</td>\n",
       "    </tr>\n",
       "    <tr>\n",
       "      <th>32451</th>\n",
       "      <td>Graphic: Supreme Court roundup</td>\n",
       "      <td></td>\n",
       "      <td>politicsNews</td>\n",
       "      <td>June 16, 2016</td>\n",
       "      <td>true</td>\n",
       "    </tr>\n",
       "  </tbody>\n",
       "</table>\n",
       "<p>627 rows × 5 columns</p>\n",
       "</div>"
      ],
      "text/plain": [
       "                                                   title text       subject  \\\n",
       "10923  TAKE OUR POLL: Who Do You Think President Trum...           politics   \n",
       "11041  Joe Scarborough BERATES Mika Brzezinski Over “...           politics   \n",
       "11190  WATCH TUCKER CARLSON Scorch Sanctuary City May...           politics   \n",
       "11225  MAYOR OF SANCTUARY CITY: Trump Trying To Make ...           politics   \n",
       "11236  SHOCKER: Public School Turns Computer Lab Into...           politics   \n",
       "...                                                  ...  ...           ...   \n",
       "21826  FULL VIDEO: THE BLOCKBUSTER INVESTIGATION INTO...          left-news   \n",
       "21827  (VIDEO) HILLARY CLINTON: RELIGIOUS BELIEFS MUS...          left-news   \n",
       "21857  (VIDEO)ICE PROTECTING OBAMA: WON’T RELEASE NAM...          left-news   \n",
       "21873  (VIDEO) HYSTERICAL SNL TAKE ON HILLARY’S ANNOU...          left-news   \n",
       "32451                     Graphic: Supreme Court roundup       politicsNews   \n",
       "\n",
       "                 date label  \n",
       "10923    May 10, 2017  fake  \n",
       "11041    Apr 26, 2017  fake  \n",
       "11190     Apr 6, 2017  fake  \n",
       "11225     Apr 2, 2017  fake  \n",
       "11236     Apr 1, 2017  fake  \n",
       "...               ...   ...  \n",
       "21826    Apr 25, 2015  fake  \n",
       "21827    Apr 25, 2015  fake  \n",
       "21857    Apr 14, 2015  fake  \n",
       "21873    Apr 12, 2015  fake  \n",
       "32451  June 16, 2016   true  \n",
       "\n",
       "[627 rows x 5 columns]"
      ]
     },
     "execution_count": 137,
     "metadata": {},
     "output_type": "execute_result"
    }
   ],
   "source": [
    "df[df.text == ' ']"
   ]
  },
  {
   "cell_type": "markdown",
   "metadata": {},
   "source": [
    "## Remove Duplicate Data\n"
   ]
  },
  {
   "cell_type": "code",
   "execution_count": 138,
   "metadata": {},
   "outputs": [
    {
     "data": {
      "text/plain": [
       "44898"
      ]
     },
     "execution_count": 138,
     "metadata": {},
     "output_type": "execute_result"
    }
   ],
   "source": [
    "len(df)"
   ]
  },
  {
   "cell_type": "code",
   "execution_count": 139,
   "metadata": {},
   "outputs": [],
   "source": [
    "df_clean = df.drop_duplicates(ignore_index=True)"
   ]
  },
  {
   "cell_type": "code",
   "execution_count": 140,
   "metadata": {},
   "outputs": [
    {
     "data": {
      "text/plain": [
       "44689"
      ]
     },
     "execution_count": 140,
     "metadata": {},
     "output_type": "execute_result"
    }
   ],
   "source": [
    "len(df_clean)"
   ]
  },
  {
   "cell_type": "markdown",
   "metadata": {},
   "source": [
    "Drop Rows with No Text (just a title)"
   ]
  },
  {
   "cell_type": "code",
   "execution_count": 141,
   "metadata": {},
   "outputs": [],
   "source": [
    "df_clean = df_clean.dropna()"
   ]
  },
  {
   "cell_type": "code",
   "execution_count": 142,
   "metadata": {},
   "outputs": [
    {
     "data": {
      "text/plain": [
       "44689"
      ]
     },
     "execution_count": 142,
     "metadata": {},
     "output_type": "execute_result"
    }
   ],
   "source": [
    "len(df_clean)"
   ]
  },
  {
   "cell_type": "markdown",
   "metadata": {},
   "source": [
    "Drop Rows with same title and text (keeping the first instance)\n"
   ]
  },
  {
   "cell_type": "code",
   "execution_count": 143,
   "metadata": {},
   "outputs": [],
   "source": [
    "df_clean = df_clean.drop_duplicates(['title', 'text'], ignore_index=True)"
   ]
  },
  {
   "cell_type": "code",
   "execution_count": 144,
   "metadata": {},
   "outputs": [
    {
     "data": {
      "text/plain": [
       "39105"
      ]
     },
     "execution_count": 144,
     "metadata": {},
     "output_type": "execute_result"
    }
   ],
   "source": [
    "len(df_clean)"
   ]
  },
  {
   "cell_type": "markdown",
   "metadata": {},
   "source": [
    "Drop Rows with the same text (keeping the first instance)\n"
   ]
  },
  {
   "cell_type": "code",
   "execution_count": 145,
   "metadata": {},
   "outputs": [],
   "source": [
    "df_clean = df_clean.drop_duplicates(['text'], ignore_index=True)"
   ]
  },
  {
   "cell_type": "code",
   "execution_count": 146,
   "metadata": {},
   "outputs": [
    {
     "name": "stdout",
     "output_type": "stream",
     "text": [
      "<class 'pandas.core.frame.DataFrame'>\n",
      "RangeIndex: 38646 entries, 0 to 38645\n",
      "Data columns (total 5 columns):\n",
      " #   Column   Non-Null Count  Dtype \n",
      "---  ------   --------------  ----- \n",
      " 0   title    38646 non-null  object\n",
      " 1   text     38646 non-null  object\n",
      " 2   subject  38646 non-null  object\n",
      " 3   date     38646 non-null  object\n",
      " 4   label    38646 non-null  object\n",
      "dtypes: object(5)\n",
      "memory usage: 1.5+ MB\n"
     ]
    }
   ],
   "source": [
    "df_clean.info()"
   ]
  },
  {
   "cell_type": "markdown",
   "metadata": {},
   "source": [
    "How many rows were dropped?"
   ]
  },
  {
   "cell_type": "code",
   "execution_count": 147,
   "metadata": {},
   "outputs": [
    {
     "data": {
      "text/plain": [
       "6252"
      ]
     },
     "execution_count": 147,
     "metadata": {},
     "output_type": "execute_result"
    }
   ],
   "source": [
    "len(df) - len(df_clean)"
   ]
  },
  {
   "cell_type": "markdown",
   "metadata": {},
   "source": [
    "## Check Date Range"
   ]
  },
  {
   "cell_type": "code",
   "execution_count": 148,
   "metadata": {},
   "outputs": [
    {
     "name": "stdout",
     "output_type": "stream",
     "text": [
      "Not all date values are dates.\n"
     ]
    }
   ],
   "source": [
    "try:\n",
    "    df_clean['date'] = pd.to_datetime(df_clean['date'])\n",
    "except ValueError:\n",
    "    print('Not all date values are dates.')"
   ]
  },
  {
   "cell_type": "markdown",
   "metadata": {},
   "source": [
    "### Filter instances with invalid dates"
   ]
  },
  {
   "cell_type": "markdown",
   "metadata": {},
   "source": [
    "I will need to filter out the date values that are not dates.\n"
   ]
  },
  {
   "cell_type": "code",
   "execution_count": 149,
   "metadata": {},
   "outputs": [],
   "source": [
    "def not_a_date(string):\n",
    " \n",
    "    try:\n",
    "        date = pd.to_datetime(string)\n",
    "        return False\n",
    "    except ValueError:\n",
    "        return True"
   ]
  },
  {
   "cell_type": "code",
   "execution_count": 150,
   "metadata": {},
   "outputs": [],
   "source": [
    "df_bad_dates = df_clean[df_clean['date'].apply(not_a_date)]"
   ]
  },
  {
   "cell_type": "code",
   "execution_count": 151,
   "metadata": {},
   "outputs": [
    {
     "data": {
      "text/html": [
       "<div>\n",
       "<style scoped>\n",
       "    .dataframe tbody tr th:only-of-type {\n",
       "        vertical-align: middle;\n",
       "    }\n",
       "\n",
       "    .dataframe tbody tr th {\n",
       "        vertical-align: top;\n",
       "    }\n",
       "\n",
       "    .dataframe thead th {\n",
       "        text-align: right;\n",
       "    }\n",
       "</style>\n",
       "<table border=\"1\" class=\"dataframe\">\n",
       "  <thead>\n",
       "    <tr style=\"text-align: right;\">\n",
       "      <th></th>\n",
       "      <th>title</th>\n",
       "      <th>text</th>\n",
       "      <th>subject</th>\n",
       "      <th>date</th>\n",
       "      <th>label</th>\n",
       "    </tr>\n",
       "  </thead>\n",
       "  <tbody>\n",
       "    <tr>\n",
       "      <th>9357</th>\n",
       "      <td>https://100percentfedup.com/served-roy-moore-v...</td>\n",
       "      <td>https://100percentfedup.com/served-roy-moore-v...</td>\n",
       "      <td>politics</td>\n",
       "      <td>https://100percentfedup.com/served-roy-moore-v...</td>\n",
       "      <td>fake</td>\n",
       "    </tr>\n",
       "    <tr>\n",
       "      <th>15121</th>\n",
       "      <td>https://100percentfedup.com/video-hillary-aske...</td>\n",
       "      <td>https://100percentfedup.com/video-hillary-aske...</td>\n",
       "      <td>politics</td>\n",
       "      <td>https://100percentfedup.com/video-hillary-aske...</td>\n",
       "      <td>fake</td>\n",
       "    </tr>\n",
       "    <tr>\n",
       "      <th>15122</th>\n",
       "      <td>https://100percentfedup.com/12-yr-old-black-co...</td>\n",
       "      <td>https://100percentfedup.com/12-yr-old-black-co...</td>\n",
       "      <td>politics</td>\n",
       "      <td>https://100percentfedup.com/12-yr-old-black-co...</td>\n",
       "      <td>fake</td>\n",
       "    </tr>\n",
       "    <tr>\n",
       "      <th>15424</th>\n",
       "      <td>https://fedup.wpengine.com/wp-content/uploads/...</td>\n",
       "      <td>https://fedup.wpengine.com/wp-content/uploads/...</td>\n",
       "      <td>politics</td>\n",
       "      <td>https://fedup.wpengine.com/wp-content/uploads/...</td>\n",
       "      <td>fake</td>\n",
       "    </tr>\n",
       "    <tr>\n",
       "      <th>15425</th>\n",
       "      <td>https://fedup.wpengine.com/wp-content/uploads/...</td>\n",
       "      <td>https://fedup.wpengine.com/wp-content/uploads/...</td>\n",
       "      <td>politics</td>\n",
       "      <td>https://fedup.wpengine.com/wp-content/uploads/...</td>\n",
       "      <td>fake</td>\n",
       "    </tr>\n",
       "    <tr>\n",
       "      <th>16128</th>\n",
       "      <td>Homepage</td>\n",
       "      <td>[vc_row][vc_column width= 1/1 ][td_block_trend...</td>\n",
       "      <td>left-news</td>\n",
       "      <td>MSNBC HOST Rudely Assumes Steel Worker Would N...</td>\n",
       "      <td>fake</td>\n",
       "    </tr>\n",
       "  </tbody>\n",
       "</table>\n",
       "</div>"
      ],
      "text/plain": [
       "                                                   title  \\\n",
       "9357   https://100percentfedup.com/served-roy-moore-v...   \n",
       "15121  https://100percentfedup.com/video-hillary-aske...   \n",
       "15122  https://100percentfedup.com/12-yr-old-black-co...   \n",
       "15424  https://fedup.wpengine.com/wp-content/uploads/...   \n",
       "15425  https://fedup.wpengine.com/wp-content/uploads/...   \n",
       "16128                                           Homepage   \n",
       "\n",
       "                                                    text    subject  \\\n",
       "9357   https://100percentfedup.com/served-roy-moore-v...   politics   \n",
       "15121  https://100percentfedup.com/video-hillary-aske...   politics   \n",
       "15122  https://100percentfedup.com/12-yr-old-black-co...   politics   \n",
       "15424  https://fedup.wpengine.com/wp-content/uploads/...   politics   \n",
       "15425  https://fedup.wpengine.com/wp-content/uploads/...   politics   \n",
       "16128  [vc_row][vc_column width= 1/1 ][td_block_trend...  left-news   \n",
       "\n",
       "                                                    date label  \n",
       "9357   https://100percentfedup.com/served-roy-moore-v...  fake  \n",
       "15121  https://100percentfedup.com/video-hillary-aske...  fake  \n",
       "15122  https://100percentfedup.com/12-yr-old-black-co...  fake  \n",
       "15424  https://fedup.wpengine.com/wp-content/uploads/...  fake  \n",
       "15425  https://fedup.wpengine.com/wp-content/uploads/...  fake  \n",
       "16128  MSNBC HOST Rudely Assumes Steel Worker Would N...  fake  "
      ]
     },
     "execution_count": 151,
     "metadata": {},
     "output_type": "execute_result"
    }
   ],
   "source": [
    "df_bad_dates"
   ]
  },
  {
   "cell_type": "markdown",
   "metadata": {},
   "source": [
    "The instances with text in the date field are all invalid data and will be dropped\n"
   ]
  },
  {
   "cell_type": "markdown",
   "metadata": {},
   "source": [
    "### Drop Instances with invalid dates"
   ]
  },
  {
   "cell_type": "code",
   "execution_count": 152,
   "metadata": {},
   "outputs": [],
   "source": [
    "df_clean = df_clean.drop(df_bad_dates.index)\n"
   ]
  },
  {
   "cell_type": "markdown",
   "metadata": {},
   "source": [
    "### Convert dates to datetime type"
   ]
  },
  {
   "cell_type": "code",
   "execution_count": 153,
   "metadata": {},
   "outputs": [
    {
     "name": "stdout",
     "output_type": "stream",
     "text": [
      "Not all date values are dates.\n"
     ]
    }
   ],
   "source": [
    "try:\n",
    "    df_clean['date'] = pd.to_datetime(df_clean['date'])\n",
    "except ValueError:\n",
    "    print('Not all date values are dates.')"
   ]
  },
  {
   "cell_type": "code",
   "execution_count": 154,
   "metadata": {},
   "outputs": [
    {
     "data": {
      "text/plain": [
       "count                 38640\n",
       "unique                 2391\n",
       "top       December 6, 2017 \n",
       "freq                    166\n",
       "Name: date, dtype: object"
      ]
     },
     "execution_count": 154,
     "metadata": {},
     "output_type": "execute_result"
    }
   ],
   "source": [
    "df_clean.date.describe()"
   ]
  },
  {
   "cell_type": "markdown",
   "metadata": {},
   "source": [
    "The description of the data, indicated that it was between 2016 and 2017.  I will need to check the data that is outside it."
   ]
  },
  {
   "cell_type": "code",
   "execution_count": 155,
   "metadata": {},
   "outputs": [],
   "source": [
    "df_clean['date'] = pd.to_datetime(df_clean['date'], format='%B %d, %Y', errors='coerce')"
   ]
  },
  {
   "cell_type": "code",
   "execution_count": 156,
   "metadata": {},
   "outputs": [
    {
     "data": {
      "text/html": [
       "<div>\n",
       "<style scoped>\n",
       "    .dataframe tbody tr th:only-of-type {\n",
       "        vertical-align: middle;\n",
       "    }\n",
       "\n",
       "    .dataframe tbody tr th {\n",
       "        vertical-align: top;\n",
       "    }\n",
       "\n",
       "    .dataframe thead th {\n",
       "        text-align: right;\n",
       "    }\n",
       "</style>\n",
       "<table border=\"1\" class=\"dataframe\">\n",
       "  <thead>\n",
       "    <tr style=\"text-align: right;\">\n",
       "      <th></th>\n",
       "      <th>title</th>\n",
       "      <th>text</th>\n",
       "      <th>subject</th>\n",
       "      <th>date</th>\n",
       "      <th>label</th>\n",
       "    </tr>\n",
       "  </thead>\n",
       "  <tbody>\n",
       "    <tr>\n",
       "      <th>15226</th>\n",
       "      <td>DEATH OF A NATION BY EXECUTIVE ORDER: Who Vote...</td>\n",
       "      <td>With 25% of Mexico now living in America Ameri...</td>\n",
       "      <td>politics</td>\n",
       "      <td>2015-05-31</td>\n",
       "      <td>fake</td>\n",
       "    </tr>\n",
       "    <tr>\n",
       "      <th>15227</th>\n",
       "      <td>JOHN KERRY BREAKS LEG IN BIKE CRASH IN FRENCH ...</td>\n",
       "      <td>Fortunately, our useless Secretary of State Jo...</td>\n",
       "      <td>politics</td>\n",
       "      <td>2015-05-31</td>\n",
       "      <td>fake</td>\n",
       "    </tr>\n",
       "    <tr>\n",
       "      <th>15228</th>\n",
       "      <td>JOE BIDEN’S SON BEAU DIES AT AGE 46</td>\n",
       "      <td>Beau Biden   son of Vice President Joe Biden  ...</td>\n",
       "      <td>politics</td>\n",
       "      <td>2015-05-31</td>\n",
       "      <td>fake</td>\n",
       "    </tr>\n",
       "    <tr>\n",
       "      <th>15229</th>\n",
       "      <td>ARIZONA STATE UNIV DOUBLES TUITION… CLAIMS IT ...</td>\n",
       "      <td>But what about that whole unfair  student debt...</td>\n",
       "      <td>politics</td>\n",
       "      <td>2015-05-31</td>\n",
       "      <td>fake</td>\n",
       "    </tr>\n",
       "    <tr>\n",
       "      <th>15230</th>\n",
       "      <td>[Video] HISPANIC CANDIDATE FOR SENATOR IN CA M...</td>\n",
       "      <td>This story would have been front page news acr...</td>\n",
       "      <td>politics</td>\n",
       "      <td>2015-05-31</td>\n",
       "      <td>fake</td>\n",
       "    </tr>\n",
       "    <tr>\n",
       "      <th>...</th>\n",
       "      <td>...</td>\n",
       "      <td>...</td>\n",
       "      <td>...</td>\n",
       "      <td>...</td>\n",
       "      <td>...</td>\n",
       "    </tr>\n",
       "    <tr>\n",
       "      <th>16643</th>\n",
       "      <td>WHITE BASEBALL PLAYER LOSES SCHOLARSHIP AFTER ...</td>\n",
       "      <td>So words deemed offensive are only offensive i...</td>\n",
       "      <td>left-news</td>\n",
       "      <td>2015-05-06</td>\n",
       "      <td>fake</td>\n",
       "    </tr>\n",
       "    <tr>\n",
       "      <th>16644</th>\n",
       "      <td>(VIDEO) MEDAL OF HONOR RECIPIENT SCORCHES AMER...</td>\n",
       "      <td>Medal of Honor recipient @Dakota_Meyer asking...</td>\n",
       "      <td>left-news</td>\n",
       "      <td>2015-05-05</td>\n",
       "      <td>fake</td>\n",
       "    </tr>\n",
       "    <tr>\n",
       "      <th>16645</th>\n",
       "      <td>CONTROVERSY OVER CHRISTIAN FLAG ENGULFS SMALL ...</td>\n",
       "      <td>Local residents supported the flag but nationa...</td>\n",
       "      <td>left-news</td>\n",
       "      <td>2015-05-05</td>\n",
       "      <td>fake</td>\n",
       "    </tr>\n",
       "    <tr>\n",
       "      <th>16646</th>\n",
       "      <td>PRO-ABORTION BOOK FOR CHILDREN: My “Sister Is ...</td>\n",
       "      <td>Leftist indoctrination for toddlers How I wish...</td>\n",
       "      <td>left-news</td>\n",
       "      <td>2015-05-02</td>\n",
       "      <td>fake</td>\n",
       "    </tr>\n",
       "    <tr>\n",
       "      <th>16647</th>\n",
       "      <td>(VIDEO) SICKENING CHALLENGE GOES VIRAL: DISRES...</td>\n",
       "      <td>A sick new  challenge  is going viral, urging ...</td>\n",
       "      <td>left-news</td>\n",
       "      <td>2015-05-01</td>\n",
       "      <td>fake</td>\n",
       "    </tr>\n",
       "  </tbody>\n",
       "</table>\n",
       "<p>180 rows × 5 columns</p>\n",
       "</div>"
      ],
      "text/plain": [
       "                                                   title  \\\n",
       "15226  DEATH OF A NATION BY EXECUTIVE ORDER: Who Vote...   \n",
       "15227  JOHN KERRY BREAKS LEG IN BIKE CRASH IN FRENCH ...   \n",
       "15228                JOE BIDEN’S SON BEAU DIES AT AGE 46   \n",
       "15229  ARIZONA STATE UNIV DOUBLES TUITION… CLAIMS IT ...   \n",
       "15230  [Video] HISPANIC CANDIDATE FOR SENATOR IN CA M...   \n",
       "...                                                  ...   \n",
       "16643  WHITE BASEBALL PLAYER LOSES SCHOLARSHIP AFTER ...   \n",
       "16644  (VIDEO) MEDAL OF HONOR RECIPIENT SCORCHES AMER...   \n",
       "16645  CONTROVERSY OVER CHRISTIAN FLAG ENGULFS SMALL ...   \n",
       "16646  PRO-ABORTION BOOK FOR CHILDREN: My “Sister Is ...   \n",
       "16647  (VIDEO) SICKENING CHALLENGE GOES VIRAL: DISRES...   \n",
       "\n",
       "                                                    text    subject  \\\n",
       "15226  With 25% of Mexico now living in America Ameri...   politics   \n",
       "15227  Fortunately, our useless Secretary of State Jo...   politics   \n",
       "15228  Beau Biden   son of Vice President Joe Biden  ...   politics   \n",
       "15229  But what about that whole unfair  student debt...   politics   \n",
       "15230  This story would have been front page news acr...   politics   \n",
       "...                                                  ...        ...   \n",
       "16643  So words deemed offensive are only offensive i...  left-news   \n",
       "16644   Medal of Honor recipient @Dakota_Meyer asking...  left-news   \n",
       "16645  Local residents supported the flag but nationa...  left-news   \n",
       "16646  Leftist indoctrination for toddlers How I wish...  left-news   \n",
       "16647  A sick new  challenge  is going viral, urging ...  left-news   \n",
       "\n",
       "            date label  \n",
       "15226 2015-05-31  fake  \n",
       "15227 2015-05-31  fake  \n",
       "15228 2015-05-31  fake  \n",
       "15229 2015-05-31  fake  \n",
       "15230 2015-05-31  fake  \n",
       "...          ...   ...  \n",
       "16643 2015-05-06  fake  \n",
       "16644 2015-05-05  fake  \n",
       "16645 2015-05-05  fake  \n",
       "16646 2015-05-02  fake  \n",
       "16647 2015-05-01  fake  \n",
       "\n",
       "[180 rows x 5 columns]"
      ]
     },
     "execution_count": 156,
     "metadata": {},
     "output_type": "execute_result"
    }
   ],
   "source": [
    "df_early = df_clean[df_clean.date < pd.to_datetime('2016-01-01')]\n",
    "df_early"
   ]
  },
  {
   "cell_type": "code",
   "execution_count": 157,
   "metadata": {},
   "outputs": [
    {
     "data": {
      "text/plain": [
       "label\n",
       "fake    180\n",
       "Name: count, dtype: int64"
      ]
     },
     "execution_count": 157,
     "metadata": {},
     "output_type": "execute_result"
    }
   ],
   "source": [
    "df_early.label.value_counts()"
   ]
  },
  {
   "cell_type": "code",
   "execution_count": 158,
   "metadata": {},
   "outputs": [],
   "source": [
    "df_late = df_clean[df_clean.date > pd.to_datetime('2017-12-31')]"
   ]
  },
  {
   "cell_type": "code",
   "execution_count": 159,
   "metadata": {},
   "outputs": [
    {
     "data": {
      "text/html": [
       "<div>\n",
       "<style scoped>\n",
       "    .dataframe tbody tr th:only-of-type {\n",
       "        vertical-align: middle;\n",
       "    }\n",
       "\n",
       "    .dataframe tbody tr th {\n",
       "        vertical-align: top;\n",
       "    }\n",
       "\n",
       "    .dataframe thead th {\n",
       "        text-align: right;\n",
       "    }\n",
       "</style>\n",
       "<table border=\"1\" class=\"dataframe\">\n",
       "  <thead>\n",
       "    <tr style=\"text-align: right;\">\n",
       "      <th></th>\n",
       "      <th>title</th>\n",
       "      <th>text</th>\n",
       "      <th>subject</th>\n",
       "      <th>date</th>\n",
       "      <th>label</th>\n",
       "    </tr>\n",
       "  </thead>\n",
       "  <tbody>\n",
       "  </tbody>\n",
       "</table>\n",
       "</div>"
      ],
      "text/plain": [
       "Empty DataFrame\n",
       "Columns: [title, text, subject, date, label]\n",
       "Index: []"
      ]
     },
     "execution_count": 159,
     "metadata": {},
     "output_type": "execute_result"
    }
   ],
   "source": [
    "df_late"
   ]
  },
  {
   "cell_type": "code",
   "execution_count": 160,
   "metadata": {},
   "outputs": [
    {
     "data": {
      "text/plain": [
       "label\n",
       "true    21191\n",
       "fake    17449\n",
       "Name: count, dtype: int64"
      ]
     },
     "execution_count": 160,
     "metadata": {},
     "output_type": "execute_result"
    }
   ],
   "source": [
    "df_clean.label.value_counts()"
   ]
  },
  {
   "cell_type": "markdown",
   "metadata": {},
   "source": [
    "# Explore the dataset"
   ]
  },
  {
   "cell_type": "code",
   "execution_count": 161,
   "metadata": {},
   "outputs": [],
   "source": [
    "def show_hist_for_col(df, column, title):\n",
    "   \n",
    "    plt.figure(figsize=(16,8))\n",
    "    df[df.label == 'true'][column].hist(label='True')\n",
    "    df[df.label == 'fake'][column].hist(alpha=0.4, label='Fake')\n",
    "    plt.title(title)\n",
    "    plt.legend()\n",
    "    plt.show()"
   ]
  },
  {
   "cell_type": "markdown",
   "metadata": {},
   "source": [
    "## Distribution of Labels"
   ]
  },
  {
   "cell_type": "code",
   "execution_count": 162,
   "metadata": {},
   "outputs": [
    {
     "data": {
      "image/png": "[encoded data removed]",
      "text/plain": [
       "<Figure size 1600x800 with 1 Axes>"
      ]
     },
     "metadata": {},
     "output_type": "display_data"
    }
   ],
   "source": [
    "plt.figure(figsize=(16,8))\n",
    "df_clean.label.hist()\n",
    "plt.title('Fake or True News')\n",
    "plt.show()"
   ]
  },
  {
   "cell_type": "code",
   "execution_count": 163,
   "metadata": {},
   "outputs": [
    {
     "data": {
      "image/png": "[encoded data removed]",
      "text/plain": [
       "<Figure size 1600x800 with 1 Axes>"
      ]
     },
     "metadata": {},
     "output_type": "display_data"
    }
   ],
   "source": [
    "show_hist_for_col(df_clean, 'date', 'Date Range for News')"
   ]
  },
  {
   "cell_type": "markdown",
   "metadata": {},
   "source": [
    "## Length of Titles"
   ]
  },
  {
   "cell_type": "code",
   "execution_count": 164,
   "metadata": {},
   "outputs": [],
   "source": [
    "df_clean['title_len'] = df_clean.title.apply(len)"
   ]
  },
  {
   "cell_type": "code",
   "execution_count": 165,
   "metadata": {},
   "outputs": [
    {
     "data": {
      "image/png": "[encoded data removed]",
      "text/plain": [
       "<Figure size 1600x800 with 1 Axes>"
      ]
     },
     "metadata": {},
     "output_type": "display_data"
    }
   ],
   "source": [
    "show_hist_for_col(df_clean, 'title_len', 'Number of Characters in Title')"
   ]
  },
  {
   "cell_type": "code",
   "execution_count": 166,
   "metadata": {},
   "outputs": [
    {
     "data": {
      "text/plain": [
       "count    21191.000000\n",
       "mean        64.660233\n",
       "std          9.159722\n",
       "min         26.000000\n",
       "25%         59.000000\n",
       "50%         64.000000\n",
       "75%         70.000000\n",
       "max        133.000000\n",
       "Name: title_len, dtype: float64"
      ]
     },
     "execution_count": 166,
     "metadata": {},
     "output_type": "execute_result"
    }
   ],
   "source": [
    "df_clean[df_clean.label == 'true'].title_len.describe()"
   ]
  },
  {
   "cell_type": "code",
   "execution_count": 167,
   "metadata": {},
   "outputs": [
    {
     "data": {
      "text/plain": [
       "count    17449.000000\n",
       "mean        91.216803\n",
       "std         24.504186\n",
       "min         15.000000\n",
       "25%         77.000000\n",
       "50%         88.000000\n",
       "75%        100.000000\n",
       "max        286.000000\n",
       "Name: title_len, dtype: float64"
      ]
     },
     "execution_count": 167,
     "metadata": {},
     "output_type": "execute_result"
    }
   ],
   "source": [
    "df_clean[df_clean.label == 'fake'].title_len.describe()"
   ]
  },
  {
   "cell_type": "markdown",
   "metadata": {},
   "source": [
    "### Fake news stories have a wider range in the length of title than True, and those Fake news titles have a higher median & mean than True ones."
   ]
  },
  {
   "cell_type": "code",
   "execution_count": 168,
   "metadata": {},
   "outputs": [],
   "source": [
    "from sklearn.feature_extraction.text import CountVectorizer\n",
    "from nltk.corpus import stopwords\n",
    "import nltk"
   ]
  },
  {
   "cell_type": "code",
   "execution_count": 169,
   "metadata": {},
   "outputs": [
    {
     "name": "stderr",
     "output_type": "stream",
     "text": [
      "[nltk_data] Error loading stopwords: <urlopen error [Errno 11001]\n",
      "[nltk_data]     getaddrinfo failed>\n"
     ]
    }
   ],
   "source": [
    "nltk.download('stopwords')\n",
    "stop_words = stopwords.words('english')"
   ]
  },
  {
   "cell_type": "code",
   "execution_count": 170,
   "metadata": {},
   "outputs": [],
   "source": [
    "def preprocess_text(text):\n",
    "    text = text.lower()\n",
    "    text = ''.join([char for char in text if char.isalpha() or char.isspace()])\n",
    "    text = ' '.join([word for word in text.split() if word not in stop_words])\n",
    "    return text"
   ]
  },
  {
   "cell_type": "code",
   "execution_count": 171,
   "metadata": {},
   "outputs": [],
   "source": [
    "df['processed_text'] = df['text'].apply(preprocess_text)"
   ]
  },
  {
   "cell_type": "code",
   "execution_count": 172,
   "metadata": {},
   "outputs": [],
   "source": [
    "vectorizer = CountVectorizer(stop_words='english')\n",
    "word_count_matrix = vectorizer.fit_transform(df['processed_text'])\n",
    "sum_words = word_count_matrix.sum(axis=0)\n",
    "words_freq = [(word, sum_words[0, idx]) for word, idx in vectorizer.vocabulary_.items()]\n",
    "words_freq = sorted(words_freq, key=lambda x: x[1], reverse=True)"
   ]
  },
  {
   "cell_type": "code",
   "execution_count": 173,
   "metadata": {},
   "outputs": [
    {
     "data": {
      "text/plain": [
       "[('said', 130052),\n",
       " ('trump', 116534),\n",
       " ('president', 51134),\n",
       " ('people', 41080),\n",
       " ('state', 31282),\n",
       " ('new', 30944),\n",
       " ('reuters', 28769),\n",
       " ('donald', 27660),\n",
       " ('states', 27111),\n",
       " ('house', 26963)]"
      ]
     },
     "execution_count": 173,
     "metadata": {},
     "output_type": "execute_result"
    }
   ],
   "source": [
    "top_words_overall = words_freq[:10]\n",
    "top_words_overall"
   ]
  },
  {
   "cell_type": "markdown",
   "metadata": {},
   "source": [
    "# N-grams Analysis to explore common bigrams"
   ]
  },
  {
   "cell_type": "code",
   "execution_count": 174,
   "metadata": {},
   "outputs": [],
   "source": [
    "def plot_most_common_words(words_freq, n=10, title='Top Words'):\n",
    "    words = [item[0] for item in words_freq[:n]]\n",
    "    counts = [item[1] for item in words_freq[:n]]\n",
    "    \n",
    "    plt.figure(figsize=(10, 6))\n",
    "    plt.barh(range(len(words)), counts, color='skyblue')\n",
    "    plt.yticks(range(len(words)), words)\n",
    "    plt.gca().invert_yaxis()  # Invert y-axis to have the highest count on top\n",
    "    plt.title(title)\n",
    "    plt.xlabel('Frequency')\n",
    "    plt.ylabel('Words')\n",
    "    plt.show()"
   ]
  },
  {
   "cell_type": "code",
   "execution_count": 175,
   "metadata": {},
   "outputs": [],
   "source": [
    "vectorizer_bigrams = CountVectorizer(ngram_range=(2, 2), stop_words=stop_words)\n",
    "bigram_matrix = vectorizer_bigrams.fit_transform(df['processed_text'])\n",
    "sum_bigrams = bigram_matrix.sum(axis=0)\n",
    "bigrams_freq = [(bigram, sum_bigrams[0, idx]) for bigram, idx in vectorizer_bigrams.vocabulary_.items()]\n",
    "bigrams_freq_sorted = sorted(bigrams_freq, key=lambda x: x[1], reverse=True)"
   ]
  },
  {
   "cell_type": "code",
   "execution_count": 176,
   "metadata": {},
   "outputs": [],
   "source": [
    "top_bigrams = bigrams_freq_sorted[:10]"
   ]
  },
  {
   "cell_type": "code",
   "execution_count": 177,
   "metadata": {},
   "outputs": [
    {
     "data": {
      "image/png": "[encoded data removed]",
      "text/plain": [
       "<Figure size 1000x600 with 1 Axes>"
      ]
     },
     "metadata": {},
     "output_type": "display_data"
    }
   ],
   "source": [
    "plot_most_common_words(top_bigrams, 10, 'Top 10 Bigrams in the Dataset')"
   ]
  },
  {
   "cell_type": "markdown",
   "metadata": {},
   "source": [
    "## Said"
   ]
  },
  {
   "cell_type": "code",
   "execution_count": 179,
   "metadata": {},
   "outputs": [],
   "source": [
    "def check_string_for(substring, fullstring):\n",
    "    \"\"\"Check if the substring is in the fullstring\"\"\"\n",
    "    if search(substring, fullstring):\n",
    "        return True\n",
    "    else:\n",
    "        return False"
   ]
  },
  {
   "cell_type": "code",
   "execution_count": 181,
   "metadata": {},
   "outputs": [],
   "source": [
    "df_said = df_clean[df_clean.text.apply(lambda news_text: check_string_for('said', news_text))]"
   ]
  },
  {
   "cell_type": "code",
   "execution_count": 182,
   "metadata": {},
   "outputs": [
    {
     "data": {
      "text/html": [
       "<div>\n",
       "<style scoped>\n",
       "    .dataframe tbody tr th:only-of-type {\n",
       "        vertical-align: middle;\n",
       "    }\n",
       "\n",
       "    .dataframe tbody tr th {\n",
       "        vertical-align: top;\n",
       "    }\n",
       "\n",
       "    .dataframe thead th {\n",
       "        text-align: right;\n",
       "    }\n",
       "</style>\n",
       "<table border=\"1\" class=\"dataframe\">\n",
       "  <thead>\n",
       "    <tr style=\"text-align: right;\">\n",
       "      <th></th>\n",
       "      <th>title</th>\n",
       "      <th>text</th>\n",
       "      <th>subject</th>\n",
       "      <th>date</th>\n",
       "      <th>label</th>\n",
       "      <th>title_len</th>\n",
       "    </tr>\n",
       "  </thead>\n",
       "  <tbody>\n",
       "    <tr>\n",
       "      <th>1</th>\n",
       "      <td>Drunk Bragging Trump Staffer Started Russian ...</td>\n",
       "      <td>House Intelligence Committee Chairman Devin Nu...</td>\n",
       "      <td>News</td>\n",
       "      <td>2017-12-31</td>\n",
       "      <td>fake</td>\n",
       "      <td>69</td>\n",
       "    </tr>\n",
       "    <tr>\n",
       "      <th>4</th>\n",
       "      <td>Pope Francis Just Called Out Donald Trump Dur...</td>\n",
       "      <td>Pope Francis used his annual Christmas Day mes...</td>\n",
       "      <td>News</td>\n",
       "      <td>2017-12-25</td>\n",
       "      <td>fake</td>\n",
       "      <td>70</td>\n",
       "    </tr>\n",
       "    <tr>\n",
       "      <th>12</th>\n",
       "      <td>Bad News For Trump — Mitch McConnell Says No ...</td>\n",
       "      <td>Republicans have had seven years to come up wi...</td>\n",
       "      <td>News</td>\n",
       "      <td>2017-12-21</td>\n",
       "      <td>fake</td>\n",
       "      <td>76</td>\n",
       "    </tr>\n",
       "    <tr>\n",
       "      <th>13</th>\n",
       "      <td>WATCH: Lindsey Graham Trashes Media For Portr...</td>\n",
       "      <td>The media has been talking all day about Trump...</td>\n",
       "      <td>News</td>\n",
       "      <td>2017-12-20</td>\n",
       "      <td>fake</td>\n",
       "      <td>91</td>\n",
       "    </tr>\n",
       "    <tr>\n",
       "      <th>15</th>\n",
       "      <td>Tone Deaf Trump: Congrats Rep. Scalise On Los...</td>\n",
       "      <td>Donald Trump just signed the GOP tax scam into...</td>\n",
       "      <td>News</td>\n",
       "      <td>2017-12-20</td>\n",
       "      <td>fake</td>\n",
       "      <td>78</td>\n",
       "    </tr>\n",
       "    <tr>\n",
       "      <th>...</th>\n",
       "      <td>...</td>\n",
       "      <td>...</td>\n",
       "      <td>...</td>\n",
       "      <td>...</td>\n",
       "      <td>...</td>\n",
       "      <td>...</td>\n",
       "    </tr>\n",
       "    <tr>\n",
       "      <th>38641</th>\n",
       "      <td>'Fully committed' NATO backs new U.S. approach...</td>\n",
       "      <td>BRUSSELS (Reuters) - NATO allies on Tuesday we...</td>\n",
       "      <td>worldnews</td>\n",
       "      <td>NaT</td>\n",
       "      <td>true</td>\n",
       "      <td>61</td>\n",
       "    </tr>\n",
       "    <tr>\n",
       "      <th>38642</th>\n",
       "      <td>LexisNexis withdrew two products from Chinese ...</td>\n",
       "      <td>LONDON (Reuters) - LexisNexis, a provider of l...</td>\n",
       "      <td>worldnews</td>\n",
       "      <td>NaT</td>\n",
       "      <td>true</td>\n",
       "      <td>52</td>\n",
       "    </tr>\n",
       "    <tr>\n",
       "      <th>38643</th>\n",
       "      <td>Minsk cultural hub becomes haven from authorities</td>\n",
       "      <td>MINSK (Reuters) - In the shadow of disused Sov...</td>\n",
       "      <td>worldnews</td>\n",
       "      <td>NaT</td>\n",
       "      <td>true</td>\n",
       "      <td>49</td>\n",
       "    </tr>\n",
       "    <tr>\n",
       "      <th>38644</th>\n",
       "      <td>Vatican upbeat on possibility of Pope Francis ...</td>\n",
       "      <td>MOSCOW (Reuters) - Vatican Secretary of State ...</td>\n",
       "      <td>worldnews</td>\n",
       "      <td>NaT</td>\n",
       "      <td>true</td>\n",
       "      <td>61</td>\n",
       "    </tr>\n",
       "    <tr>\n",
       "      <th>38645</th>\n",
       "      <td>Indonesia to buy $1.14 billion worth of Russia...</td>\n",
       "      <td>JAKARTA (Reuters) - Indonesia will buy 11 Sukh...</td>\n",
       "      <td>worldnews</td>\n",
       "      <td>NaT</td>\n",
       "      <td>true</td>\n",
       "      <td>52</td>\n",
       "    </tr>\n",
       "  </tbody>\n",
       "</table>\n",
       "<p>29704 rows × 6 columns</p>\n",
       "</div>"
      ],
      "text/plain": [
       "                                                   title  \\\n",
       "1       Drunk Bragging Trump Staffer Started Russian ...   \n",
       "4       Pope Francis Just Called Out Donald Trump Dur...   \n",
       "12      Bad News For Trump — Mitch McConnell Says No ...   \n",
       "13      WATCH: Lindsey Graham Trashes Media For Portr...   \n",
       "15      Tone Deaf Trump: Congrats Rep. Scalise On Los...   \n",
       "...                                                  ...   \n",
       "38641  'Fully committed' NATO backs new U.S. approach...   \n",
       "38642  LexisNexis withdrew two products from Chinese ...   \n",
       "38643  Minsk cultural hub becomes haven from authorities   \n",
       "38644  Vatican upbeat on possibility of Pope Francis ...   \n",
       "38645  Indonesia to buy $1.14 billion worth of Russia...   \n",
       "\n",
       "                                                    text    subject  \\\n",
       "1      House Intelligence Committee Chairman Devin Nu...       News   \n",
       "4      Pope Francis used his annual Christmas Day mes...       News   \n",
       "12     Republicans have had seven years to come up wi...       News   \n",
       "13     The media has been talking all day about Trump...       News   \n",
       "15     Donald Trump just signed the GOP tax scam into...       News   \n",
       "...                                                  ...        ...   \n",
       "38641  BRUSSELS (Reuters) - NATO allies on Tuesday we...  worldnews   \n",
       "38642  LONDON (Reuters) - LexisNexis, a provider of l...  worldnews   \n",
       "38643  MINSK (Reuters) - In the shadow of disused Sov...  worldnews   \n",
       "38644  MOSCOW (Reuters) - Vatican Secretary of State ...  worldnews   \n",
       "38645  JAKARTA (Reuters) - Indonesia will buy 11 Sukh...  worldnews   \n",
       "\n",
       "            date label  title_len  \n",
       "1     2017-12-31  fake         69  \n",
       "4     2017-12-25  fake         70  \n",
       "12    2017-12-21  fake         76  \n",
       "13    2017-12-20  fake         91  \n",
       "15    2017-12-20  fake         78  \n",
       "...          ...   ...        ...  \n",
       "38641        NaT  true         61  \n",
       "38642        NaT  true         52  \n",
       "38643        NaT  true         49  \n",
       "38644        NaT  true         61  \n",
       "38645        NaT  true         52  \n",
       "\n",
       "[29704 rows x 6 columns]"
      ]
     },
     "execution_count": 182,
     "metadata": {},
     "output_type": "execute_result"
    }
   ],
   "source": [
    "df_said"
   ]
  },
  {
   "cell_type": "code",
   "execution_count": 183,
   "metadata": {},
   "outputs": [
    {
     "data": {
      "text/plain": [
       "label\n",
       "true    19855\n",
       "fake     9849\n",
       "Name: count, dtype: int64"
      ]
     },
     "execution_count": 183,
     "metadata": {},
     "output_type": "execute_result"
    }
   ],
   "source": [
    "df_said.label.value_counts()"
   ]
  },
  {
   "cell_type": "markdown",
   "metadata": {},
   "source": [
    "Stories using the term said indicate that the news story is true.  With twice as many \"true\" news reports featuring said as \"fake\", it appears that the true ones are more interested with producing quotations, or at least quotations in this type."
   ]
  }
 ],
 "metadata": {
  "kernelspec": {
   "display_name": "fnClassification",
   "language": "python",
   "name": "python3"
  },
  "language_info": {
   "codemirror_mode": {
    "name": "ipython",
    "version": 3
   },
   "file_extension": ".py",
   "mimetype": "text/x-python",
   "name": "python",
   "nbconvert_exporter": "python",
   "pygments_lexer": "ipython3",
   "version": "3.11.7"
  }
 },
 "nbformat": 4,
 "nbformat_minor": 2
}
